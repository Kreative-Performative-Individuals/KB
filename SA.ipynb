{
 "cells": [
  {
   "cell_type": "code",
   "execution_count": 1,
   "metadata": {},
   "outputs": [],
   "source": [
    "import kb_interface as kbi"
   ]
  },
  {
   "cell_type": "code",
   "execution_count": 2,
   "metadata": {},
   "outputs": [
    {
     "name": "stdout",
     "output_type": "stream",
     "text": [
      "Ontology successfully initialized!\n"
     ]
    }
   ],
   "source": [
    "kbi.start()"
   ]
  },
  {
   "cell_type": "code",
   "execution_count": 3,
   "metadata": {},
   "outputs": [],
   "source": [
    "test_create = [['downtime_kpi', \n",
    "                'mean_time_between_failures', \n",
    "                'Mean time between failures cumulative over machine-opertion pairs', \n",
    "                's', \n",
    "                'A°sum°mo[S°/[ R°bad_cycles_sum°T°m°o° ; R°time_sum°T°m°o° ]]',\n",
    "                'sum_M_O(bad_cycles_sum(T,m,o)/time_sum(T,m,o))',\n",
    "                True,\n",
    "                True], \n",
    "               \n",
    "               ['utilization_kpi', \n",
    "                'availability', \n",
    "                'Percentage of machine uptime in respect to machine downtime over each machine-operation pairs', \n",
    "                '%', \n",
    "                'S°*[ S°/[ A°sum°m[ R°time_sum°T°m°working° ] ; S°+[ A°sum°m[ R°time_sum°T°m°idle° ] ; A°sum°m[ R°time_sum°T°m°offline° ] ] ] ; C°100° ]',\n",
    "                '(sum_M( time_sum(T,m,working)) / ( sum_M(time_sum(T,m,Idle)) + sum_M(time_sum(T,m,offline)) ) )*100',\n",
    "                True,\n",
    "                False]]"
   ]
  },
  {
   "cell_type": "code",
   "execution_count": null,
   "metadata": {},
   "outputs": [
    {
     "name": "stdout",
     "output_type": "stream",
     "text": [
      "consumption_sum\n",
      "(['A°sum°mo[ A°sum°t[ D°consumption_sum°t°m°o° ] ]'], ['R0MKtB1FGsxLy4i1gr1sV9'], ['consumption_sum'])\n",
      "cost_sum\n",
      "(['A°sum°mo[ A°sum°t[ D°cost_sum°t°m°o° ] ]'], ['R4r84xwBOFiwnSO3LWja5X'], ['cost_sum'])\n",
      "consumption_max\n",
      "(['A°max°mo[ A°max°t[ D°consumption_max°t°m°o° ] ]'], ['R5V6RUhYgu8fk1lTd1JfbH'], ['consumption_max'])\n",
      "average_cycle_time_avg\n",
      "(['A°mean°mo[ A°mean°t[ D°average_cycle_time_avg°t°m°o° ]]'], ['R7MgOWHfPwuBRiHOnNrT57l'], ['average_cycle_time_avg'])\n",
      "power_sum\n",
      "(['A°sum°mo[ A°sum°t[ D°power_sum°t°m°o° ] ]'], ['R7TfPiPG80rCfz98pGtetEk'], ['power_sum'])\n",
      "bad_cycles_max\n",
      "(['A°max°mo[ A°max°t[ D°bad_cycles_max°t°m°o° ]]'], ['R7nZyqyELJk4eJ3Lbp2PWjR'], ['bad_cycles_max'])\n",
      "success_rate\n",
      "(['A°sum°mo[ S°*[S°/[ R°good_cycles_sum°T°m°o° ; R°cycles_sum°T°m°o° ]] ; C°100°]', 'A°sum°mo[ A°sum°t[ D°good_cycles_sum°t°m°o° ]]', 'A°sum°mo[ A°sum°t[ D°cycles_sum°t°m°o° ]]'], ['R7u1FemtJqdMBwsG7daSEFV', 'R8LqLgWbE81e95SUOYZ4D4R', 'RB8j5Hueb5Uhq9155yIWWeE'], ['success_rate', 'good_cycles_sum', 'cycles_sum'])\n",
      "good_cycles_sum\n",
      "(['A°sum°mo[ A°sum°t[ D°good_cycles_sum°t°m°o° ]]'], ['R8LqLgWbE81e95SUOYZ4D4R'], ['good_cycles_sum'])\n",
      "bad_cycles_sum\n",
      "(['A°sum°mo[ A°sum°t[ D°bad_cycles_sum°t°m°o° ]]'], ['R8ScTyWAfxBTPLvxKYZkymU'], ['bad_cycles_sum'])\n",
      "cost_per_cycle\n",
      "(['A°sum°mo[ S°*[S°/[ R°consumption_sum°T°m°o° ; R°cycles_sum°T°m°o° ]] ; R°cost_sum°T°m°o°]', 'A°sum°mo[ A°sum°t[ D°consumption_sum°t°m°o° ] ]', 'A°sum°mo[ A°sum°t[ D°cycles_sum°t°m°o° ]]', 'A°sum°mo[ A°sum°t[ D°cost_sum°t°m°o° ] ]'], ['R8VHLqifuXU4igLg4MsS0X9', 'R0MKtB1FGsxLy4i1gr1sV9', 'RB8j5Hueb5Uhq9155yIWWeE', 'R4r84xwBOFiwnSO3LWja5X'], ['cost_per_cycle', 'consumption_sum', 'cycles_sum', 'cost_sum'])\n",
      "non_operative_time\n",
      "(['S°+[ R°time_sum°T°M°idle° ; R°time_sum°T°M°offline° ]', 'A°sum°mo[ A°sum°t[ D°time_sum°t°m°o° ]]', 'A°sum°mo[ A°sum°t[ D°time_sum°t°m°o° ]]'], ['R8bvZxsWmfcsqYeT0ENX2mb', 'R8mT8WvQuTNhzof24r75lrf', 'R8mT8WvQuTNhzof24r75lrf'], ['non_operative_time', 'time_sum', 'time_sum'])\n",
      "consumption_avg\n",
      "(['A°mean°mo[ A°mean°t[ D°consumption_avg°t°m°o° ] ]'], ['R8kWKiERU3ii0v4c1YKyZyr'], ['consumption_avg'])\n",
      "time_sum\n",
      "(['A°sum°mo[ A°sum°t[ D°time_sum°t°m°o° ]]'], ['R8mT8WvQuTNhzof24r75lrf'], ['time_sum'])\n",
      "power_cumulative\n",
      "(['A°sum°mo[ S°/[ R°consumption_sum°T°m°o° ; R°time_sum°T°m°o° ]]', 'A°sum°mo[ A°sum°t[ D°consumption_sum°t°m°o° ] ]', 'A°sum°mo[ A°sum°t[ D°time_sum°t°m°o° ]]'], ['R94Az5RYeElC2aocjCcocEQ', 'R0MKtB1FGsxLy4i1gr1sV9', 'R8mT8WvQuTNhzof24r75lrf'], ['power_cumulative', 'consumption_sum', 'time_sum'])\n",
      "time_min\n",
      "(['A°min°mo[ A°min°t[ D°time_min°t°m°o° ]]'], ['R9Ao9txTV3oDaW9zOLnC7NO'], ['time_min'])\n",
      "cycles_max\n",
      "(['A°max°mo[ A°max°t[ D°cycles_max°t°m°o° ]]'], ['R9eS5blogIAIhBBtxE0m0XV'], ['cycles_max'])\n",
      "cycles_sum\n",
      "(['A°sum°mo[ A°sum°t[ D°cycles_sum°t°m°o° ]]'], ['RB8j5Hueb5Uhq9155yIWWeE'], ['cycles_sum'])\n",
      "bad_cycles_avg\n",
      "(['A°mean°mo[ A°mean°t[ D°bad_cycles_avg°t°m°o° ]]'], ['RBSkyEbuxo7kG9hqrD1gxM4'], ['bad_cycles_avg'])\n",
      "consumption_min\n",
      "(['A°min°mo[ A°min°t[ D°consumption_min°t°m°o° ] ]'], ['RBn79uBYDCzU25yKYPAbGLX'], ['consumption_min'])\n",
      "time_max\n",
      "(['A°max°mo[ A°max°t[ D°time_max°t°m°o° ]]'], ['RC6g0uZ4pXgr3uRDqKWAlJR'], ['time_max'])\n",
      "good_cycles_avg\n",
      "(['A°mean°mo[ A°mean°t[ D°good_cycles_avg°t°m°o° ]]'], ['RCCn2RWbWNTkgHTzVtkenvL'], ['good_cycles_avg'])\n",
      "good_cycles_max\n",
      "(['A°max°mo[ A°max°t[ D°good_cycles_max°t°m°o° ]]'], ['RCSOoYmgf7RgNo6pUjNBisD'], ['good_cycles_max'])\n",
      "bad_cycles_min\n",
      "(['A°min°mo[ A°min°t[ D°bad_cycles_min°t°m°o° ]]'], ['RCeGVqZDNlqqlEmWuVSb92V'], ['bad_cycles_min'])\n",
      "time_avg\n",
      "(['A°mean°mo[ A°mean°t[ D°time_avg°t°m°o° ]]'], ['RDmzKnqZgYYsosBW7lLuU7k'], ['time_avg'])\n",
      "power_mean\n",
      "(['A°mean°mo[ S°/[ R°consumption_sum°T°m°o° ; R°time_sum°T°m°o° ]]', 'A°sum°mo[ A°sum°t[ D°consumption_sum°t°m°o° ] ]', 'A°sum°mo[ A°sum°t[ D°time_sum°t°m°o° ]]'], ['RFf0SeldHDbdBbBVmproN1', 'R0MKtB1FGsxLy4i1gr1sV9', 'R8mT8WvQuTNhzof24r75lrf'], ['power_mean', 'consumption_sum', 'time_sum'])\n",
      "cycles_min\n",
      "(['A°min°mo[ A°min°t[ D°cycles_min°t°m°o° ]]'], ['RILXgyFL7V0LTIC7MAxNhT'], ['cycles_min'])\n",
      "cycles_avg\n",
      "(['A°mean°mo[ A°mean°t[ D°cycles_avg°t°m°o° ]]'], ['RLxQ79nvGtCBkOwDFY1uVa'], ['cycles_avg'])\n",
      "good_cycles_min\n",
      "(['A°min°mo[ A°min°t[ D°good_cycles_min°t°m°o° ]]'], ['RPkEXCqfhuFl0sp3bS7RuX'], ['good_cycles_min'])\n",
      "mean_time_between_failures\n",
      "(['A°sum°mo[S°/[ R°bad_cycles_sum°T°m°o° ; R°time_sum°T°m°o° ]]', 'A°sum°mo[ A°sum°t[ D°bad_cycles_sum°t°m°o° ]]', 'A°sum°mo[ A°sum°t[ D°time_sum°t°m°o° ]]'], ['TI7elI3KDWSoArKzluuKIS', 'R8ScTyWAfxBTPLvxKYZkymU', 'R8mT8WvQuTNhzof24r75lrf'], ['mean_time_between_failures', 'bad_cycles_sum', 'time_sum'])\n",
      "availability\n",
      "(['S°*[ S°/[ A°sum°m[ R°time_sum°T°m°working° ] ; S°+[ A°sum°m[ R°time_sum°T°m°idle° ] ; A°sum°m[ R°time_sum°T°m°offline° ] ] ] ; C°100° ]', 'A°sum°mo[ A°sum°t[ D°time_sum°t°m°o° ]]', 'A°sum°mo[ A°sum°t[ D°time_sum°t°m°o° ]]', 'A°sum°mo[ A°sum°t[ D°time_sum°t°m°o° ]]'], ['V2sWB6bQ5xYqUabIwJH44K', 'R8mT8WvQuTNhzof24r75lrf', 'R8mT8WvQuTNhzof24r75lrf', 'R8mT8WvQuTNhzof24r75lrf'], ['availability', 'time_sum', 'time_sum', 'time_sum'])\n"
     ]
    }
   ],
   "source": [
    "for ind in kbi.ONTO.search(label='kpi')[0].instances():\n",
    "    print(ind.label[0],':')\n",
    "    print(kbi.get_formulas(ind.label[0][:]))"
   ]
  },
  {
   "cell_type": "code",
   "execution_count": 5,
   "metadata": {},
   "outputs": [
    {
     "name": "stdout",
     "output_type": "stream",
     "text": [
      "Processing: ['downtime_kpi', 'mean_time_between_failures', 'Mean time between failures cumulative over machine-opertion pairs', 's', 'A°sum°mo[S°/[ R°bad_cycles_sum°T°m°o° ; R°time_sum°T°m°o° ]]', 'sum_M_O(bad_cycles_sum(T,m,o)/time_sum(T,m,o))', True, True]\n",
      "KPI LABEL ALREADY EXISTS\n",
      "Processing: ['utilization_kpi', 'availability', 'Percentage of machine uptime in respect to machine downtime over each machine-operation pairs', '%', 'S°*[ S°/[ A°sum°m[ R°time_sum°T°m°working° ] ; S°+[ A°sum°m[ R°time_sum°T°m°idle° ] ; A°sum°m[ R°time_sum°T°m°offline° ] ] ] ; C°100° ]', '(sum_M( time_sum(T,m,working)) / ( sum_M(time_sum(T,m,Idle)) + sum_M(time_sum(T,m,offline)) ) )*100', True, False]\n",
      "KPI LABEL ALREADY EXISTS\n"
     ]
    }
   ],
   "source": [
    "for l in test_create:\n",
    "    print(f\"Processing: {l}\")  # Mostra cosa contiene la lista l\n",
    "    kbi.add_kpi(*l)"
   ]
  },
  {
   "cell_type": "code",
   "execution_count": 6,
   "metadata": {},
   "outputs": [
    {
     "data": {
      "text/plain": [
       "(['A°sum°mo[S°/[ R°bad_cycles_sum°T°m°o° ; R°time_sum°T°m°o° ]]',\n",
       "  'A°sum°mo[ A°sum°t[ D°bad_cycles_sum°t°m°o° ]]',\n",
       "  'A°sum°mo[ A°sum°t[ D°time_sum°t°m°o° ]]'],\n",
       " ['TI7elI3KDWSoArKzluuKIS',\n",
       "  'R8ScTyWAfxBTPLvxKYZkymU',\n",
       "  'R8mT8WvQuTNhzof24r75lrf'],\n",
       " ['mean_time_between_failures', 'bad_cycles_sum', 'time_sum'])"
      ]
     },
     "execution_count": 6,
     "metadata": {},
     "output_type": "execute_result"
    }
   ],
   "source": [
    "kbi.get_formulas('mean_time_between_failures')"
   ]
  },
  {
   "cell_type": "code",
   "execution_count": 7,
   "metadata": {},
   "outputs": [
    {
     "data": {
      "text/plain": [
       "(['S°*[ S°/[ A°sum°m[ R°time_sum°T°m°working° ] ; S°+[ A°sum°m[ R°time_sum°T°m°idle° ] ; A°sum°m[ R°time_sum°T°m°offline° ] ] ] ; C°100° ]',\n",
       "  'A°sum°mo[ A°sum°t[ D°time_sum°t°m°o° ]]',\n",
       "  'A°sum°mo[ A°sum°t[ D°time_sum°t°m°o° ]]',\n",
       "  'A°sum°mo[ A°sum°t[ D°time_sum°t°m°o° ]]'],\n",
       " ['V2sWB6bQ5xYqUabIwJH44K',\n",
       "  'R8mT8WvQuTNhzof24r75lrf',\n",
       "  'R8mT8WvQuTNhzof24r75lrf',\n",
       "  'R8mT8WvQuTNhzof24r75lrf'],\n",
       " ['availability', 'time_sum', 'time_sum', 'time_sum'])"
      ]
     },
     "execution_count": 7,
     "metadata": {},
     "output_type": "execute_result"
    }
   ],
   "source": [
    "kbi.get_formulas('availability')"
   ]
  }
 ],
 "metadata": {
  "kernelspec": {
   "display_name": ".venv",
   "language": "python",
   "name": "python3"
  },
  "language_info": {
   "codemirror_mode": {
    "name": "ipython",
    "version": 3
   },
   "file_extension": ".py",
   "mimetype": "text/x-python",
   "name": "python",
   "nbconvert_exporter": "python",
   "pygments_lexer": "ipython3",
   "version": "3.12.2"
  }
 },
 "nbformat": 4,
 "nbformat_minor": 2
}
