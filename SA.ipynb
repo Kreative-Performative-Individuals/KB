{
 "cells": [
  {
   "cell_type": "code",
   "execution_count": 1,
   "metadata": {},
   "outputs": [],
   "source": [
    "import owlready2 as or2\n",
    "import re\n",
    "import hashlib\n",
    "import base64\n",
    "\n",
    "onto = or2.get_ontology('./KB.owl').load()"
   ]
  },
  {
   "cell_type": "code",
   "execution_count": 2,
   "metadata": {},
   "outputs": [],
   "source": [
    "test_request = ['time_sum', 'consumption_sum', 'power_cumulative', 'power_mean', 'error_kpi']"
   ]
  },
  {
   "cell_type": "code",
   "execution_count": 3,
   "metadata": {},
   "outputs": [],
   "source": [
    "PARSABLE_FORMULA = onto.search(label = 'parsable_computation_formula')[0]\n",
    "HUMAN_READABLE_FORMULA = onto.search(label = 'human_readable_formula')[0]\n",
    "DEPENDS_ON = onto.search(label = 'depends_on')[0]\n",
    "\n",
    "OPERATION_CASS = onto.search(label = 'machine')[0]\n",
    "MACHINE_CASS = onto.search(label = 'machine')[0]\n",
    "KPI_CLASS = onto.search(label = 'kpi')[0]\n",
    "LABEL = 'label'"
   ]
  },
  {
   "cell_type": "code",
   "execution_count": 4,
   "metadata": {},
   "outputs": [
    {
     "name": "stdout",
     "output_type": "stream",
     "text": [
      "(webprotege.stanford.edu.R0MKtB1FGsxLy4i1gr1sV9, locstr('Pure KPI', 'en'))\n",
      "(webprotege.stanford.edu.R8bvZxsWmfcsqYeT0ENX2mb, locstr('time_sum(T,M,idle) + time_sum(T,M,offline)', 'en'))\n",
      "(webprotege.stanford.edu.R8mT8WvQuTNhzof24r75lrf, locstr('Pure KPI', 'en'))\n",
      "(webprotege.stanford.edu.R94Az5RYeElC2aocjCcocEQ, locstr('sum_M_O(consumption_sum(T,m,o)/time_sum(T,m,o))', 'en'))\n",
      "(webprotege.stanford.edu.RFf0SeldHDbdBbBVmproN1, locstr('mean_M_O(consumption_sum(T,m,o)/time_sum(T,m,o))', 'en'))\n"
     ]
    }
   ],
   "source": [
    "for i in HUMAN_READABLE_FORMULA.get_relations():\n",
    "    print(i)"
   ]
  },
  {
   "cell_type": "code",
   "execution_count": 5,
   "metadata": {},
   "outputs": [
    {
     "name": "stdout",
     "output_type": "stream",
     "text": [
      "(webprotege.stanford.edu.R0MKtB1FGsxLy4i1gr1sV9, 'A°sum°mo[ A°sum°t[ D°consumption_sum°t°m°o° ] ]')\n",
      "(webprotege.stanford.edu.R8bvZxsWmfcsqYeT0ENX2mb, 'S°+[ R°time_sum°T°M°idle° ; R°time_sum°T°M°offline° ]')\n",
      "(webprotege.stanford.edu.R8mT8WvQuTNhzof24r75lrf, 'A°sum°mo[ A°sum°t[ D°time_sum°t°m°o° ]]')\n",
      "(webprotege.stanford.edu.R94Az5RYeElC2aocjCcocEQ, 'A°sum°mo[ S°/[ R°consumption_sum°T°m°o° ; R°time_sum°T°m°o° ]]')\n",
      "(webprotege.stanford.edu.RFf0SeldHDbdBbBVmproN1, 'A°mean°mo[ S°/[ R°consumption_sum°T°m°o° ; R°time_sum°T°m°o° ]]')\n"
     ]
    }
   ],
   "source": [
    "for i in PARSABLE_FORMULA.get_relations():\n",
    "    print(i)"
   ]
  },
  {
   "cell_type": "code",
   "execution_count": 6,
   "metadata": {},
   "outputs": [],
   "source": [
    "def generate_hash_code(input_data):\n",
    "    \"\"\"\n",
    "    Generates a compact, alphanumeric hash code for a given input string.\n",
    "    The function uses a secure SHA-256 hash algorithm and encodes the result\n",
    "    in a URL-safe Base64 format. The output is truncated for brevity.\n",
    "\n",
    "    Parameters:\n",
    "    - input_data (str): The input string to generate the hash code from.\n",
    "\n",
    "    Returns:\n",
    "    - hash_code (str): A shortened alphanumeric hash code derived from the input data.\n",
    "    \"\"\"\n",
    "    \n",
    "    # Create a SHA-256 hash object and compute the hash of the input string\n",
    "    hash_obj = hashlib.sha256(input_data.encode())\n",
    "    \n",
    "    # Encode the binary hash digest into a URL-safe Base64 string\n",
    "    hash_b64 = base64.urlsafe_b64encode(hash_obj.digest()).decode()\n",
    "    \n",
    "    # Truncate the Base64 string to 22 characters for compactness\n",
    "    hash_code = hash_b64[:22]\n",
    "    \n",
    "    return hash_code"
   ]
  },
  {
   "cell_type": "code",
   "execution_count": 7,
   "metadata": {},
   "outputs": [],
   "source": [
    "def get_formulas(kpi, onto):\n",
    "    \"\"\"\n",
    "    This function retrieves and unrolls formulas associated with a given KPI label.\n",
    "    It recursively searches for nested KPIs in the formulas and expands them until\n",
    "    all formulas are fully unrolled.\n",
    "\n",
    "    Parameters:\n",
    "    - kpi (str): The label of the KPI whose formula is to be retrieved and unrolled.\n",
    "    - onto (Ontology): An ontology object used to search for KPI entities based on their label.\n",
    "\n",
    "    Returns:\n",
    "    - f_list (list): A list of all formulas found during the unrolling process, including nested ones.\n",
    "    - kpi_label_list (list): A list of the original KPI labels (input `kpi` and any nested ones found).\n",
    "    - kpi_list (list): A list of KPI names corresponding to the formulas in `f_list`.\n",
    "    \"\"\"\n",
    "    \n",
    "    # Search for the KPI label in the ontology\n",
    "    target = onto.search(label=kpi)\n",
    "    \n",
    "    # Check if there is more than one match for the KPI label\n",
    "    if not target or len(target) > 1:\n",
    "        print(\"DOUBLE OR NONE REFERENCED KPI\")  # Print error if multiple references found\n",
    "        return\n",
    "    \n",
    "    # Select the first match from the search result\n",
    "    target = target[0]\n",
    "    \n",
    "    # Initialize lists to store unrolled formulas, KPI names, and labels\n",
    "    # `to_unroll` will hold formulas to expand, starting with the current KPI's formula\n",
    "    to_unroll = [PARSABLE_FORMULA[target][0]]\n",
    "    \n",
    "    # `f_list` will store all formulas found and unrolled\n",
    "    f_list = [PARSABLE_FORMULA[target][0]]\n",
    "    \n",
    "    # `kpi_list` will store names of the KPIs as they are found\n",
    "    kpi_list = [target.get_name()]\n",
    "    \n",
    "    # `kpi_label_list` will store the original KPI labels\n",
    "    kpi_label_list = [kpi]\n",
    "    \n",
    "    # While there are formulas to unroll, continue expanding\n",
    "    while to_unroll:\n",
    "        # Pop the first formula to process and search for KPI references in it\n",
    "        matches = re.findall(r'R°[A-Za-z_]+°[A-Za-z_]*°[A-Za-z_]*°[A-Za-z_]*°', to_unroll.pop(0))\n",
    "        \n",
    "        # Iterate through all matches found for KPI references in the formula\n",
    "        for match in matches:\n",
    "            # Extract the KPI name from the reference using regex\n",
    "            kpi_name = re.match(r'R°([A-Za-z_]+)°[A-Za-z_]*°[A-Za-z_]*°[A-Za-z_]*°', match).group(1)\n",
    "            \n",
    "            # Search for the KPI name in the ontology\n",
    "            target = onto.search(label=kpi_name)\n",
    "            \n",
    "            # Check if there is more than one match for the KPI name\n",
    "            if not target or len(target) > 1:\n",
    "                print(\"DOUBLE OR NONE REFERENCED KPI\")  # Print error if multiple references found\n",
    "                return\n",
    "            \n",
    "            # Select the first match from the search result\n",
    "            target = target[0]\n",
    "            \n",
    "            # Add the formula of the found KPI to the `to_unroll` list for further expansion\n",
    "            to_unroll.append(PARSABLE_FORMULA[target][0])\n",
    "            \n",
    "            # Append the formula, KPI name, and label to their respective lists\n",
    "            f_list.append(PARSABLE_FORMULA[target][0])\n",
    "            kpi_list.append(target.get_name())\n",
    "            kpi_label_list.append(kpi_name)\n",
    "    \n",
    "    # Return the list of formulas, KPI labels, and KPI names\n",
    "    return f_list, kpi_label_list, kpi_list\n"
   ]
  },
  {
   "cell_type": "code",
   "execution_count": 8,
   "metadata": {},
   "outputs": [
    {
     "name": "stdout",
     "output_type": "stream",
     "text": [
      "(['A°sum°mo[ A°sum°t[ D°time_sum°t°m°o° ]]'], ['time_sum'], ['R8mT8WvQuTNhzof24r75lrf'])\n",
      "(['A°sum°mo[ A°sum°t[ D°consumption_sum°t°m°o° ] ]'], ['consumption_sum'], ['R0MKtB1FGsxLy4i1gr1sV9'])\n",
      "(['A°sum°mo[ S°/[ R°consumption_sum°T°m°o° ; R°time_sum°T°m°o° ]]', 'A°sum°mo[ A°sum°t[ D°consumption_sum°t°m°o° ] ]', 'A°sum°mo[ A°sum°t[ D°time_sum°t°m°o° ]]'], ['power_cumulative', 'consumption_sum', 'time_sum'], ['R94Az5RYeElC2aocjCcocEQ', 'R0MKtB1FGsxLy4i1gr1sV9', 'R8mT8WvQuTNhzof24r75lrf'])\n",
      "(['A°mean°mo[ S°/[ R°consumption_sum°T°m°o° ; R°time_sum°T°m°o° ]]', 'A°sum°mo[ A°sum°t[ D°consumption_sum°t°m°o° ] ]', 'A°sum°mo[ A°sum°t[ D°time_sum°t°m°o° ]]'], ['power_mean', 'consumption_sum', 'time_sum'], ['RFf0SeldHDbdBbBVmproN1', 'R0MKtB1FGsxLy4i1gr1sV9', 'R8mT8WvQuTNhzof24r75lrf'])\n",
      "DOUBLE OR NONE REFERENCED KPI\n",
      "None\n"
     ]
    }
   ],
   "source": [
    "for s in test_request:\n",
    "    print(get_formulas(s, onto))"
   ]
  },
  {
   "cell_type": "code",
   "execution_count": 9,
   "metadata": {},
   "outputs": [],
   "source": [
    "#TODO: Greatly improve the intelligence of the method\n",
    "def add_kpi(superclass, label, description, unit_of_measure, parsable_computation_formula, \n",
    "            human_readable_formula=None, \n",
    "            depends_on_machine=False, \n",
    "            depends_on_operation=False):\n",
    "    \n",
    "    if not human_readable_formula:\n",
    "        human_readable_formula = parsable_computation_formula\n",
    "    \n",
    "    \n",
    "    # Search for the KPI label in the ontology\n",
    "    target = onto.search(label=superclass)\n",
    "    \n",
    "    # Check if there is more than one match for the KPI label\n",
    "    if not target or len(target) > 1:\n",
    "        print(\"DOUBLE OR NONE REFERENCED KPI\")  # Print error if multiple references found\n",
    "        return\n",
    "    \n",
    "    # Select the first match from the search result\n",
    "    target = target[0]\n",
    "    \n",
    "    \n",
    "    valid_superclass = any(KPI_CLASS in cls.ancestors() for cls in target.is_a) or KPI_CLASS == target\n",
    "    print(valid_superclass)\n",
    "    \n",
    "    new_el = target(generate_hash_code(label))\n",
    "    new_el.label = label\n",
    "    new_el.description = description\n",
    "    new_el.unit_of_measure = unit_of_measure\n",
    "    \n",
    "    HUMAN_READABLE_FORMULA[new_el] = human_readable_formula\n",
    "    PARSABLE_FORMULA[new_el] = parsable_computation_formula\n",
    "    \n",
    "    if depends_on_machine: DEPENDS_ON[new_el] = MACHINE_CASS\n",
    "    if depends_on_operation: DEPENDS_ON[new_el] = OPERATION_CASS\n",
    "    \n",
    "    for p in new_el.get_properties():\n",
    "        print(p,'=',p[new_el])"
   ]
  },
  {
   "cell_type": "code",
   "execution_count": 10,
   "metadata": {},
   "outputs": [
    {
     "name": "stdout",
     "output_type": "stream",
     "text": [
      "True\n",
      "1.1.description = ['description']\n",
      "rdf-schema.label = ['test_kpi']\n",
      "webprotege.stanford.edu.RFpsbX8Z33MIzQczsjG1Hm = ['f']\n",
      "webprotege.stanford.edu.RCQV99kdEzyvqs86oiS9amD = ['formula']\n"
     ]
    }
   ],
   "source": [
    "add_kpi('energy_kpi', 'test_kpi', 'description', 'unit', 'formula')"
   ]
  }
 ],
 "metadata": {
  "kernelspec": {
   "display_name": ".venv",
   "language": "python",
   "name": "python3"
  },
  "language_info": {
   "codemirror_mode": {
    "name": "ipython",
    "version": 3
   },
   "file_extension": ".py",
   "mimetype": "text/x-python",
   "name": "python",
   "nbconvert_exporter": "python",
   "pygments_lexer": "ipython3",
   "version": "3.12.2"
  }
 },
 "nbformat": 4,
 "nbformat_minor": 2
}
