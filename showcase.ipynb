{
 "cells": [
  {
   "cell_type": "code",
   "execution_count": 1,
   "metadata": {},
   "outputs": [],
   "source": [
    "import kb_interface as kbi"
   ]
  },
  {
   "cell_type": "markdown",
   "metadata": {},
   "source": [
    "Below is the diagram of the KB as it is currently implemented, after the necessary modifications to introduce the concept of operation."
   ]
  },
  {
   "cell_type": "markdown",
   "metadata": {},
   "source": [
    "![image](./showcase_data/final_ontology_schema.png)"
   ]
  },
  {
   "cell_type": "markdown",
   "metadata": {},
   "source": [
    "The function to load the KB into memory and make the interface ready for use."
   ]
  },
  {
   "cell_type": "code",
   "execution_count": 2,
   "metadata": {},
   "outputs": [
    {
     "name": "stdout",
     "output_type": "stream",
     "text": [
      "Ontology successfully initialized!\n"
     ]
    }
   ],
   "source": [
    "kbi.start()"
   ]
  },
  {
   "cell_type": "markdown",
   "metadata": {},
   "source": [
    "Here, for each KPI currently in the KB, we test the get_formulas function, which will be the core function of the implementation, the one that sends the KPI Engine group the formulas needed to calculate the required KPI."
   ]
  },
  {
   "cell_type": "code",
   "execution_count": 3,
   "metadata": {},
   "outputs": [
    {
     "name": "stdout",
     "output_type": "stream",
     "text": [
      "----------------------------------------------------------------------------\n",
      "Requested: consumption_sum\n",
      "Received: {'consumption_sum': 'A°sum°mo[ A°sum°t[ D°consumption_sum°t°m°o° ] ]'}\n",
      "----------------------------------------------------------------------------\n",
      "Requested: cost_sum\n",
      "Received: {'cost_sum': 'A°sum°mo[ A°sum°t[ D°cost_sum°t°m°o° ] ]'}\n",
      "----------------------------------------------------------------------------\n",
      "Requested: consumption_max\n",
      "Received: {'consumption_max': 'A°max°mo[ A°max°t[ D°consumption_max°t°m°o° ] ]'}\n",
      "----------------------------------------------------------------------------\n",
      "Requested: failure_rate\n",
      "Received: {'failure_rate': 'A°sum°mo[ S°*[S°/[ R°bad_cycles_sum°T°m°o° ; R°cycles_sum°T°m°o° ] ; C°100°]]', 'bad_cycles_sum': 'A°sum°mo[ A°sum°t[ D°bad_cycles_sum°t°m°o° ]]', 'cycles_sum': 'A°sum°mo[ A°sum°t[ D°cycles_sum°t°m°o° ]]'}\n",
      "----------------------------------------------------------------------------\n",
      "Requested: average_cycle_time_avg\n",
      "Received: {'average_cycle_time_avg': 'A°mean°mo[ A°mean°t[ D°average_cycle_time_avg°t°m°o° ]]'}\n",
      "----------------------------------------------------------------------------\n",
      "Requested: power_avg\n",
      "Received: {'power_avg': 'A°mean°mo[ A°sum°t[ D°power_avg°t°m°o° ] ]'}\n",
      "----------------------------------------------------------------------------\n",
      "Requested: operative_consumption\n",
      "Received: {'operative_consumption': 'S°+[ R°consumption_sum°T°M°idle° ; R°consumption_sum°T°M°working° ]', 'consumption_sum': 'A°sum°mo[ A°sum°t[ D°consumption_sum°t°m°o° ] ]'}\n",
      "----------------------------------------------------------------------------\n",
      "Requested: bad_cycles_max\n",
      "Received: {'bad_cycles_max': 'A°max°mo[ A°max°t[ D°bad_cycles_max°t°m°o° ]]'}\n",
      "----------------------------------------------------------------------------\n",
      "Requested: success_rate\n",
      "Received: {'success_rate': 'A°sum°mo[ S°*[S°/[ R°good_cycles_sum°T°m°o° ; R°cycles_sum°T°m°o° ] ; C°100°]]', 'good_cycles_sum': 'A°sum°mo[ A°sum°t[ D°good_cycles_sum°t°m°o° ]]', 'cycles_sum': 'A°sum°mo[ A°sum°t[ D°cycles_sum°t°m°o° ]]'}\n",
      "----------------------------------------------------------------------------\n",
      "Requested: power_max\n",
      "Received: {'power_max': 'A°max°mo[ A°max°t[ D°power_max°t°m°o° ] ]'}\n",
      "----------------------------------------------------------------------------\n",
      "Requested: good_cycles_sum\n",
      "Received: {'good_cycles_sum': 'A°sum°mo[ A°sum°t[ D°good_cycles_sum°t°m°o° ]]'}\n",
      "----------------------------------------------------------------------------\n",
      "Requested: cost_avg\n",
      "Received: {'cost_avg': 'A°mean°mo[ A°mean°t[ D°cost_avg°t°m°o° ] ]'}\n",
      "----------------------------------------------------------------------------\n",
      "Requested: bad_cycles_sum\n",
      "Received: {'bad_cycles_sum': 'A°sum°mo[ A°sum°t[ D°bad_cycles_sum°t°m°o° ]]'}\n",
      "----------------------------------------------------------------------------\n",
      "Requested: cost_per_cycle\n",
      "Received: {'cost_per_cycle': 'A°sum°mo[ S°*[S°/[ R°consumption_sum°T°m°o° ; R°cycles_sum°T°m°o° ]; R°cost_sum°T°m°o°]]', 'consumption_sum': 'A°sum°mo[ A°sum°t[ D°consumption_sum°t°m°o° ] ]', 'cycles_sum': 'A°sum°mo[ A°sum°t[ D°cycles_sum°t°m°o° ]]', 'cost_sum': 'A°sum°mo[ A°sum°t[ D°cost_sum°t°m°o° ] ]'}\n",
      "----------------------------------------------------------------------------\n",
      "Requested: non_operative_time\n",
      "Received: {'non_operative_time': 'S°+[ R°time_sum°T°M°idle° ; R°time_sum°T°M°offline° ]', 'time_sum': 'A°sum°mo[ A°sum°t[ D°time_sum°t°m°o° ]]'}\n",
      "----------------------------------------------------------------------------\n",
      "Requested: consumption_avg\n",
      "Received: {'consumption_avg': 'A°mean°mo[ A°mean°t[ D°consumption_avg°t°m°o° ] ]'}\n",
      "----------------------------------------------------------------------------\n",
      "Requested: time_sum\n",
      "Received: {'time_sum': 'A°sum°mo[ A°sum°t[ D°time_sum°t°m°o° ]]'}\n",
      "----------------------------------------------------------------------------\n",
      "Requested: power_cumulative\n",
      "Received: {'power_cumulative': 'A°sum°mo[ S°/[ R°consumption_sum°T°m°o° ; R°time_sum°T°m°o° ]]', 'consumption_sum': 'A°sum°mo[ A°sum°t[ D°consumption_sum°t°m°o° ] ]', 'time_sum': 'A°sum°mo[ A°sum°t[ D°time_sum°t°m°o° ]]'}\n",
      "----------------------------------------------------------------------------\n",
      "Requested: time_min\n",
      "Received: {'time_min': 'A°min°mo[ A°min°t[ D°time_min°t°m°o° ]]'}\n",
      "----------------------------------------------------------------------------\n",
      "Requested: cost_min\n",
      "Received: {'cost_min': 'A°min°mo[ A°min°t[ D°cost_min°t°m°o° ] ]'}\n",
      "----------------------------------------------------------------------------\n",
      "Requested: total_consumption\n",
      "Received: {'total_consumption': 'S°+[ R°consumption_sum°T°M°idle° ; R°consumption_sum°T°M°offline° ; R°consumption_sum°T°M°working° ]', 'consumption_sum': 'A°sum°mo[ A°sum°t[ D°consumption_sum°t°m°o° ] ]'}\n",
      "----------------------------------------------------------------------------\n",
      "Requested: cycles_max\n",
      "Received: {'cycles_max': 'A°max°mo[ A°max°t[ D°cycles_max°t°m°o° ]]'}\n",
      "----------------------------------------------------------------------------\n",
      "Requested: cycles_sum\n",
      "Received: {'cycles_sum': 'A°sum°mo[ A°sum°t[ D°cycles_sum°t°m°o° ]]'}\n",
      "----------------------------------------------------------------------------\n",
      "Requested: bad_cycles_avg\n",
      "Received: {'bad_cycles_avg': 'A°mean°mo[ A°mean°t[ D°bad_cycles_avg°t°m°o° ]]'}\n",
      "----------------------------------------------------------------------------\n",
      "Requested: cost_max\n",
      "Received: {'cost_max': 'A°max°mo[ A°max°t[ D°cost_max°t°m°o° ] ]'}\n",
      "----------------------------------------------------------------------------\n",
      "Requested: consumption_min\n",
      "Received: {'consumption_min': 'A°min°mo[ A°min°t[ D°consumption_min°t°m°o° ] ]'}\n",
      "----------------------------------------------------------------------------\n",
      "Requested: availability\n",
      "Received: {'availability': 'S°*[ S°/[ A°sum°m[ R°time_sum°T°m°working° ] ; S°+[ A°sum°m[ R°time_sum°T°m°idle° ] ; A°sum°m[ R°time_sum°T°m°offline° ] ] ] ; C°100° ]', 'time_sum': 'A°sum°mo[ A°sum°t[ D°time_sum°t°m°o° ]]'}\n",
      "----------------------------------------------------------------------------\n",
      "Requested: total_carbon_footprint\n",
      "Received: {'total_carbon_footprint': 'A°sum°mo[S°*[ R°total_consumption°T°m°o° ; C°400°]]', 'total_consumption': 'S°+[ R°consumption_sum°T°M°idle° ; R°consumption_sum°T°M°offline° ; R°consumption_sum°T°M°working° ]', 'consumption_sum': 'A°sum°mo[ A°sum°t[ D°consumption_sum°t°m°o° ] ]'}\n",
      "----------------------------------------------------------------------------\n",
      "Requested: time_max\n",
      "Received: {'time_max': 'A°max°mo[ A°max°t[ D°time_max°t°m°o° ]]'}\n",
      "----------------------------------------------------------------------------\n",
      "Requested: good_cycles_avg\n",
      "Received: {'good_cycles_avg': 'A°mean°mo[ A°mean°t[ D°good_cycles_avg°t°m°o° ]]'}\n",
      "----------------------------------------------------------------------------\n",
      "Requested: overall_equipment_effectiveness\n",
      "Received: {'overall_equipment_effectiveness': 'A°mean°m[ S°*[S°/[S°*[  R°good_cycles_sum°T°m°working° ; R°average_cycle_time_avg°T°m°working° ] ; R°time_sum°T°m°working° ]; C°100°]]', 'good_cycles_sum': 'A°sum°mo[ A°sum°t[ D°good_cycles_sum°t°m°o° ]]', 'average_cycle_time_avg': 'A°mean°mo[ A°mean°t[ D°average_cycle_time_avg°t°m°o° ]]', 'time_sum': 'A°sum°mo[ A°sum°t[ D°time_sum°t°m°o° ]]'}\n",
      "----------------------------------------------------------------------------\n",
      "Requested: good_cycles_max\n",
      "Received: {'good_cycles_max': 'A°max°mo[ A°max°t[ D°good_cycles_max°t°m°o° ]]'}\n",
      "----------------------------------------------------------------------------\n",
      "Requested: bad_cycles_min\n",
      "Received: {'bad_cycles_min': 'A°min°mo[ A°min°t[ D°bad_cycles_min°t°m°o° ]]'}\n",
      "----------------------------------------------------------------------------\n",
      "Requested: energy_efficiency\n",
      "Received: {'energy_efficiency': 'A°mean°m[S°/[ R°consumption_sum°T°m°working° ; R°cycles_sum°T°m°working° ]]', 'consumption_sum': 'A°sum°mo[ A°sum°t[ D°consumption_sum°t°m°o° ] ]', 'cycles_sum': 'A°sum°mo[ A°sum°t[ D°cycles_sum°t°m°o° ]]'}\n",
      "----------------------------------------------------------------------------\n",
      "Requested: time_avg\n",
      "Received: {'time_avg': 'A°mean°mo[ A°mean°t[ D°time_avg°t°m°o° ]]'}\n",
      "----------------------------------------------------------------------------\n",
      "Requested: power_mean\n",
      "Received: {'power_mean': 'A°mean°mo[ S°/[ R°consumption_sum°T°m°o° ; R°time_sum°T°m°o° ]]', 'consumption_sum': 'A°sum°mo[ A°sum°t[ D°consumption_sum°t°m°o° ] ]', 'time_sum': 'A°sum°mo[ A°sum°t[ D°time_sum°t°m°o° ]]'}\n",
      "----------------------------------------------------------------------------\n",
      "Requested: cycles_min\n",
      "Received: {'cycles_min': 'A°min°mo[ A°min°t[ D°cycles_min°t°m°o° ]]'}\n",
      "----------------------------------------------------------------------------\n",
      "Requested: cycles_avg\n",
      "Received: {'cycles_avg': 'A°mean°mo[ A°mean°t[ D°cycles_avg°t°m°o° ]]'}\n",
      "----------------------------------------------------------------------------\n",
      "Requested: total_energy_cost\n",
      "Received: {'total_energy_cost': 'A°sum°mo[ S°*[R°total_consumption°T°m°o°; R°cost_sum°T°m°o°]]', 'total_consumption': 'S°+[ R°consumption_sum°T°M°idle° ; R°consumption_sum°T°M°offline° ; R°consumption_sum°T°M°working° ]', 'cost_sum': 'A°sum°mo[ A°sum°t[ D°cost_sum°t°m°o° ] ]', 'consumption_sum': 'A°sum°mo[ A°sum°t[ D°consumption_sum°t°m°o° ] ]'}\n",
      "----------------------------------------------------------------------------\n",
      "Requested: mean_time_between_failures\n",
      "Received: {'mean_time_between_failures': 'A°mean°mo[S°/[ R°bad_cycles_sum°T°m°o° ; R°time_sum°T°m°o° ]]', 'bad_cycles_sum': 'A°sum°mo[ A°sum°t[ D°bad_cycles_sum°t°m°o° ]]', 'time_sum': 'A°sum°mo[ A°sum°t[ D°time_sum°t°m°o° ]]'}\n",
      "----------------------------------------------------------------------------\n",
      "Requested: good_cycles_min\n",
      "Received: {'good_cycles_min': 'A°min°mo[ A°min°t[ D°good_cycles_min°t°m°o° ]]'}\n",
      "----------------------------------------------------------------------------\n",
      "Requested: carbon_footprint_per_cycle\n",
      "Received: {'carbon_footprint_per_cycle': 'A°mean°mo[S°/[ R°total_carbon_footprint°T°m°o° ; R°cycles_sum°T°m°o°]]', 'total_carbon_footprint': 'A°sum°mo[S°*[ R°total_consumption°T°m°o° ; C°400°]]', 'cycles_sum': 'A°sum°mo[ A°sum°t[ D°cycles_sum°t°m°o° ]]', 'total_consumption': 'S°+[ R°consumption_sum°T°M°idle° ; R°consumption_sum°T°M°offline° ; R°consumption_sum°T°M°working° ]', 'consumption_sum': 'A°sum°mo[ A°sum°t[ D°consumption_sum°t°m°o° ] ]'}\n",
      "----------------------------------------------------------------------------\n",
      "Requested: power_min\n",
      "Received: {'power_min': 'A°min°mo[ A°min°t[ D°power_min°t°m°o° ] ]'}\n",
      "----------------------------------------------------------------------------\n",
      "Requested: utilization_rate\n",
      "Received: {'utilization_rate': 'S°*[ S°/[ A°sum°m[ R°time_sum°T°m°working° ] ; S°+[ A°sum°m[ R°time_sum°T°m°idle° ] ; A°sum°m[ R°time_sum°T°m°offline° ] ; A°sum°m[ R°time_sum°T°m°working° ] ] ] ; C°100° ]', 'time_sum': 'A°sum°mo[ A°sum°t[ D°time_sum°t°m°o° ]]'}\n",
      "----------------------------------------------------------------------------\n"
     ]
    }
   ],
   "source": [
    "print('----------------------------------------------------------------------------')\n",
    "for lab in kbi.ONTO.search(label='kpi')[0].instances():\n",
    "    \n",
    "    ret = kbi.get_formulas(lab.label[0][:])\n",
    "    print('Requested:', lab.label[0][:])\n",
    "    print('Received:',ret)\n",
    "    print('----------------------------------------------------------------------------')"
   ]
  },
  {
   "cell_type": "markdown",
   "metadata": {},
   "source": [
    "Below we have 2 test KPIs to add to the KB, with all the necessary fields for correct addition."
   ]
  },
  {
   "cell_type": "code",
   "execution_count": 4,
   "metadata": {},
   "outputs": [],
   "source": [
    "test_create = [['downtime_kpi', \n",
    "                'mean_time_between_failures', \n",
    "                'Mean time between failures cumulative over machine-opertion pairs', \n",
    "                's', \n",
    "                'A°sum°mo[S°/[ R°bad_cycles_sum°T°m°o° ; R°time_sum°T°m°o° ]]',\n",
    "                'sum_M_O(bad_cycles_sum(T,m,o)/time_sum(T,m,o))',\n",
    "                True,\n",
    "                True], \n",
    "               \n",
    "               ['utilization_kpi', \n",
    "                'availability', \n",
    "                'Percentage of machine uptime in respect to machine downtime over each machine-operation pairs', \n",
    "                '%', \n",
    "                'S°*[ S°/[ A°sum°m[ R°time_sum°T°m°working° ] ; S°+[ A°sum°m[ R°time_sum°T°m°idle° ] ; A°sum°m[ R°time_sum°T°m°offline° ] ] ] ; C°100° ]',\n",
    "                '(sum_M( time_sum(T,m,working)) / ( sum_M(time_sum(T,m,Idle)) + sum_M(time_sum(T,m,offline)) ) )*100',\n",
    "                True,\n",
    "                True]]"
   ]
  },
  {
   "cell_type": "markdown",
   "metadata": {},
   "source": [
    "We add, via the add_kpi function, the kpi mentioned above."
   ]
  },
  {
   "cell_type": "code",
   "execution_count": 5,
   "metadata": {},
   "outputs": [
    {
     "name": "stdout",
     "output_type": "stream",
     "text": [
      "Processing: ['downtime_kpi', 'mean_time_between_failures', 'Mean time between failures cumulative over machine-opertion pairs', 's', 'A°sum°mo[S°/[ R°bad_cycles_sum°T°m°o° ; R°time_sum°T°m°o° ]]', 'sum_M_O(bad_cycles_sum(T,m,o)/time_sum(T,m,o))', True, True]\n",
      "KPI mean_time_between_failures ALREADY EXISTS\n",
      "Processing: ['utilization_kpi', 'availability', 'Percentage of machine uptime in respect to machine downtime over each machine-operation pairs', '%', 'S°*[ S°/[ A°sum°m[ R°time_sum°T°m°working° ] ; S°+[ A°sum°m[ R°time_sum°T°m°idle° ] ; A°sum°m[ R°time_sum°T°m°offline° ] ] ] ; C°100° ]', '(sum_M( time_sum(T,m,working)) / ( sum_M(time_sum(T,m,Idle)) + sum_M(time_sum(T,m,offline)) ) )*100', True, True]\n",
      "KPI availability ALREADY EXISTS\n"
     ]
    }
   ],
   "source": [
    "for l in test_create:\n",
    "    print(f\"Processing: {l}\")  # Mostra cosa contiene la lista l\n",
    "    kbi.add_kpi(*l)"
   ]
  },
  {
   "cell_type": "markdown",
   "metadata": {},
   "source": [
    "Finally, let us test the functionality of the get_formulas method on the newly added derived KPIs to test the mechanism of obtaining nested formulas."
   ]
  },
  {
   "cell_type": "code",
   "execution_count": 6,
   "metadata": {},
   "outputs": [
    {
     "name": "stdout",
     "output_type": "stream",
     "text": [
      "----------------------------------------------------------------------------\n",
      "Requested: mean_time_between_failures\n",
      "Received: {'mean_time_between_failures': 'A°mean°mo[S°/[ R°bad_cycles_sum°T°m°o° ; R°time_sum°T°m°o° ]]', 'bad_cycles_sum': 'A°sum°mo[ A°sum°t[ D°bad_cycles_sum°t°m°o° ]]', 'time_sum': 'A°sum°mo[ A°sum°t[ D°time_sum°t°m°o° ]]'}\n",
      "----------------------------------------------------------------------------\n"
     ]
    }
   ],
   "source": [
    "print('----------------------------------------------------------------------------')\n",
    "ret = kbi.get_formulas('mean_time_between_failures')\n",
    "print('Requested:', 'mean_time_between_failures')\n",
    "print('Received:',ret)\n",
    "print('----------------------------------------------------------------------------')"
   ]
  },
  {
   "cell_type": "code",
   "execution_count": 7,
   "metadata": {},
   "outputs": [
    {
     "name": "stdout",
     "output_type": "stream",
     "text": [
      "----------------------------------------------------------------------------\n",
      "Requested: availability\n",
      "Received: {'availability': 'S°*[ S°/[ A°sum°m[ R°time_sum°T°m°working° ] ; S°+[ A°sum°m[ R°time_sum°T°m°idle° ] ; A°sum°m[ R°time_sum°T°m°offline° ] ] ] ; C°100° ]', 'time_sum': 'A°sum°mo[ A°sum°t[ D°time_sum°t°m°o° ]]'}\n",
      "----------------------------------------------------------------------------\n"
     ]
    }
   ],
   "source": [
    "print('----------------------------------------------------------------------------')\n",
    "ret = kbi.get_formulas('availability')\n",
    "print('Requested:', 'availability')\n",
    "print('Received:',ret)\n",
    "print('----------------------------------------------------------------------------')"
   ]
  }
 ],
 "metadata": {
  "kernelspec": {
   "display_name": ".venv",
   "language": "python",
   "name": "python3"
  },
  "language_info": {
   "codemirror_mode": {
    "name": "ipython",
    "version": 3
   },
   "file_extension": ".py",
   "mimetype": "text/x-python",
   "name": "python",
   "nbconvert_exporter": "python",
   "pygments_lexer": "ipython3",
   "version": "3.12.2"
  }
 },
 "nbformat": 4,
 "nbformat_minor": 2
}
