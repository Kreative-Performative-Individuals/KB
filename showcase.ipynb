{
 "cells": [
  {
   "cell_type": "code",
   "execution_count": 1,
   "metadata": {},
   "outputs": [],
   "source": [
    "import kb_interface as kbi"
   ]
  },
  {
   "cell_type": "code",
   "execution_count": 2,
   "metadata": {},
   "outputs": [
    {
     "name": "stdout",
     "output_type": "stream",
     "text": [
      "Ontology successfully initialized!\n"
     ]
    }
   ],
   "source": [
    "kbi.start()"
   ]
  },
  {
   "cell_type": "code",
   "execution_count": 3,
   "metadata": {},
   "outputs": [],
   "source": [
    "test_create = [['downtime_kpi', \n",
    "                'mean_time_between_failures', \n",
    "                'Mean time between failures cumulative over machine-opertion pairs', \n",
    "                's', \n",
    "                'A°sum°mo[S°/[ R°bad_cycles_sum°T°m°o° ; R°time_sum°T°m°o° ]]',\n",
    "                'sum_M_O(bad_cycles_sum(T,m,o)/time_sum(T,m,o))',\n",
    "                True,\n",
    "                True], \n",
    "               \n",
    "               ['utilization_kpi', \n",
    "                'availability', \n",
    "                'Percentage of machine uptime in respect to machine downtime over each machine-operation pairs', \n",
    "                '%', \n",
    "                'S°*[ S°/[ A°sum°m[ R°time_sum°T°m°working° ] ; S°+[ A°sum°m[ R°time_sum°T°m°idle° ] ; A°sum°m[ R°time_sum°T°m°offline° ] ] ] ; C°100° ]',\n",
    "                '(sum_M( time_sum(T,m,working)) / ( sum_M(time_sum(T,m,Idle)) + sum_M(time_sum(T,m,offline)) ) )*100',\n",
    "                True,\n",
    "                False]]"
   ]
  },
  {
   "cell_type": "code",
   "execution_count": null,
   "metadata": {},
   "outputs": [
    {
     "name": "stdout",
     "output_type": "stream",
     "text": [
      "----------------------------------------------------------------------------\n",
      "Requested: consumption_sum\n",
      "{'consumption_sum': 'A°sum°mo[ A°sum°t[ D°consumption_sum°t°m°o° ] ]'}\n",
      "----------------------------------------------------------------------------\n",
      "Requested: cost_sum\n",
      "{'cost_sum': 'A°sum°mo[ A°sum°t[ D°cost_sum°t°m°o° ] ]'}\n",
      "----------------------------------------------------------------------------\n",
      "Requested: consumption_max\n",
      "{'consumption_max': 'A°max°mo[ A°max°t[ D°consumption_max°t°m°o° ] ]'}\n",
      "----------------------------------------------------------------------------\n",
      "Requested: average_cycle_time_avg\n",
      "{'average_cycle_time_avg': 'A°mean°mo[ A°mean°t[ D°average_cycle_time_avg°t°m°o° ]]'}\n",
      "----------------------------------------------------------------------------\n",
      "Requested: power_sum\n",
      "{'power_sum': 'A°sum°mo[ A°sum°t[ D°power_sum°t°m°o° ] ]'}\n",
      "----------------------------------------------------------------------------\n",
      "Requested: bad_cycles_max\n",
      "{'bad_cycles_max': 'A°max°mo[ A°max°t[ D°bad_cycles_max°t°m°o° ]]'}\n",
      "----------------------------------------------------------------------------\n",
      "Requested: success_rate\n",
      "{'success_rate': 'A°sum°mo[ S°*[S°/[ R°good_cycles_sum°T°m°o° ; R°cycles_sum°T°m°o° ]] ; C°100°]', 'good_cycles_sum': 'A°sum°mo[ A°sum°t[ D°good_cycles_sum°t°m°o° ]]', 'cycles_sum': 'A°sum°mo[ A°sum°t[ D°cycles_sum°t°m°o° ]]'}\n",
      "----------------------------------------------------------------------------\n",
      "Requested: good_cycles_sum\n",
      "{'good_cycles_sum': 'A°sum°mo[ A°sum°t[ D°good_cycles_sum°t°m°o° ]]'}\n",
      "----------------------------------------------------------------------------\n",
      "Requested: bad_cycles_sum\n",
      "{'bad_cycles_sum': 'A°sum°mo[ A°sum°t[ D°bad_cycles_sum°t°m°o° ]]'}\n",
      "----------------------------------------------------------------------------\n",
      "Requested: cost_per_cycle\n",
      "{'cost_per_cycle': 'A°sum°mo[ S°*[S°/[ R°consumption_sum°T°m°o° ; R°cycles_sum°T°m°o° ]] ; R°cost_sum°T°m°o°]', 'consumption_sum': 'A°sum°mo[ A°sum°t[ D°consumption_sum°t°m°o° ] ]', 'cycles_sum': 'A°sum°mo[ A°sum°t[ D°cycles_sum°t°m°o° ]]', 'cost_sum': 'A°sum°mo[ A°sum°t[ D°cost_sum°t°m°o° ] ]'}\n",
      "----------------------------------------------------------------------------\n",
      "Requested: non_operative_time\n",
      "{'non_operative_time': 'S°+[ R°time_sum°T°M°idle° ; R°time_sum°T°M°offline° ]', 'time_sum': 'A°sum°mo[ A°sum°t[ D°time_sum°t°m°o° ]]'}\n",
      "----------------------------------------------------------------------------\n",
      "Requested: consumption_avg\n",
      "{'consumption_avg': 'A°mean°mo[ A°mean°t[ D°consumption_avg°t°m°o° ] ]'}\n",
      "----------------------------------------------------------------------------\n",
      "Requested: time_sum\n",
      "{'time_sum': 'A°sum°mo[ A°sum°t[ D°time_sum°t°m°o° ]]'}\n",
      "----------------------------------------------------------------------------\n",
      "Requested: power_cumulative\n",
      "{'power_cumulative': 'A°sum°mo[ S°/[ R°consumption_sum°T°m°o° ; R°time_sum°T°m°o° ]]', 'consumption_sum': 'A°sum°mo[ A°sum°t[ D°consumption_sum°t°m°o° ] ]', 'time_sum': 'A°sum°mo[ A°sum°t[ D°time_sum°t°m°o° ]]'}\n",
      "----------------------------------------------------------------------------\n",
      "Requested: time_min\n",
      "{'time_min': 'A°min°mo[ A°min°t[ D°time_min°t°m°o° ]]'}\n",
      "----------------------------------------------------------------------------\n",
      "Requested: cycles_max\n",
      "{'cycles_max': 'A°max°mo[ A°max°t[ D°cycles_max°t°m°o° ]]'}\n",
      "----------------------------------------------------------------------------\n",
      "Requested: cycles_sum\n",
      "{'cycles_sum': 'A°sum°mo[ A°sum°t[ D°cycles_sum°t°m°o° ]]'}\n",
      "----------------------------------------------------------------------------\n",
      "Requested: bad_cycles_avg\n",
      "{'bad_cycles_avg': 'A°mean°mo[ A°mean°t[ D°bad_cycles_avg°t°m°o° ]]'}\n",
      "----------------------------------------------------------------------------\n",
      "Requested: consumption_min\n",
      "{'consumption_min': 'A°min°mo[ A°min°t[ D°consumption_min°t°m°o° ] ]'}\n",
      "----------------------------------------------------------------------------\n",
      "Requested: time_max\n",
      "{'time_max': 'A°max°mo[ A°max°t[ D°time_max°t°m°o° ]]'}\n",
      "----------------------------------------------------------------------------\n",
      "Requested: good_cycles_avg\n",
      "{'good_cycles_avg': 'A°mean°mo[ A°mean°t[ D°good_cycles_avg°t°m°o° ]]'}\n",
      "----------------------------------------------------------------------------\n",
      "Requested: good_cycles_max\n",
      "{'good_cycles_max': 'A°max°mo[ A°max°t[ D°good_cycles_max°t°m°o° ]]'}\n",
      "----------------------------------------------------------------------------\n",
      "Requested: bad_cycles_min\n",
      "{'bad_cycles_min': 'A°min°mo[ A°min°t[ D°bad_cycles_min°t°m°o° ]]'}\n",
      "----------------------------------------------------------------------------\n",
      "Requested: time_avg\n",
      "{'time_avg': 'A°mean°mo[ A°mean°t[ D°time_avg°t°m°o° ]]'}\n",
      "----------------------------------------------------------------------------\n",
      "Requested: power_mean\n",
      "{'power_mean': 'A°mean°mo[ S°/[ R°consumption_sum°T°m°o° ; R°time_sum°T°m°o° ]]', 'consumption_sum': 'A°sum°mo[ A°sum°t[ D°consumption_sum°t°m°o° ] ]', 'time_sum': 'A°sum°mo[ A°sum°t[ D°time_sum°t°m°o° ]]'}\n",
      "----------------------------------------------------------------------------\n",
      "Requested: cycles_min\n",
      "{'cycles_min': 'A°min°mo[ A°min°t[ D°cycles_min°t°m°o° ]]'}\n",
      "----------------------------------------------------------------------------\n",
      "Requested: cycles_avg\n",
      "{'cycles_avg': 'A°mean°mo[ A°mean°t[ D°cycles_avg°t°m°o° ]]'}\n",
      "----------------------------------------------------------------------------\n",
      "Requested: good_cycles_min\n",
      "{'good_cycles_min': 'A°min°mo[ A°min°t[ D°good_cycles_min°t°m°o° ]]'}\n",
      "----------------------------------------------------------------------------\n",
      "Requested: mean_time_between_failures\n",
      "{'mean_time_between_failures': 'A°sum°mo[S°/[ R°bad_cycles_sum°T°m°o° ; R°time_sum°T°m°o° ]]', 'bad_cycles_sum': 'A°sum°mo[ A°sum°t[ D°bad_cycles_sum°t°m°o° ]]', 'time_sum': 'A°sum°mo[ A°sum°t[ D°time_sum°t°m°o° ]]'}\n",
      "----------------------------------------------------------------------------\n",
      "Requested: availability\n",
      "{'availability': 'S°*[ S°/[ A°sum°m[ R°time_sum°T°m°working° ] ; S°+[ A°sum°m[ R°time_sum°T°m°idle° ] ; A°sum°m[ R°time_sum°T°m°offline° ] ] ] ; C°100° ]', 'time_sum': 'A°sum°mo[ A°sum°t[ D°time_sum°t°m°o° ]]'}\n",
      "----------------------------------------------------------------------------\n"
     ]
    }
   ],
   "source": [
    "print('----------------------------------------------------------------------------')\n",
    "for lab in kbi.ONTO.search(label='kpi')[0].instances():\n",
    "    \n",
    "    ret = kbi.get_formulas(lab.label[0][:])\n",
    "    print('Requested:', lab.label[0][:])\n",
    "    print('Received:',ret)\n",
    "    print('----------------------------------------------------------------------------')"
   ]
  },
  {
   "cell_type": "code",
   "execution_count": 5,
   "metadata": {},
   "outputs": [
    {
     "name": "stdout",
     "output_type": "stream",
     "text": [
      "Processing: ['downtime_kpi', 'mean_time_between_failures', 'Mean time between failures cumulative over machine-opertion pairs', 's', 'A°sum°mo[S°/[ R°bad_cycles_sum°T°m°o° ; R°time_sum°T°m°o° ]]', 'sum_M_O(bad_cycles_sum(T,m,o)/time_sum(T,m,o))', True, True]\n",
      "KPI LABEL ALREADY EXISTS\n",
      "Processing: ['utilization_kpi', 'availability', 'Percentage of machine uptime in respect to machine downtime over each machine-operation pairs', '%', 'S°*[ S°/[ A°sum°m[ R°time_sum°T°m°working° ] ; S°+[ A°sum°m[ R°time_sum°T°m°idle° ] ; A°sum°m[ R°time_sum°T°m°offline° ] ] ] ; C°100° ]', '(sum_M( time_sum(T,m,working)) / ( sum_M(time_sum(T,m,Idle)) + sum_M(time_sum(T,m,offline)) ) )*100', True, False]\n",
      "KPI LABEL ALREADY EXISTS\n"
     ]
    }
   ],
   "source": [
    "for l in test_create:\n",
    "    print(f\"Processing: {l}\")  # Mostra cosa contiene la lista l\n",
    "    kbi.add_kpi(*l)"
   ]
  },
  {
   "cell_type": "code",
   "execution_count": 6,
   "metadata": {},
   "outputs": [
    {
     "name": "stdout",
     "output_type": "stream",
     "text": [
      "mean_time_between_failures :\n",
      "mean_time_between_failures\n",
      "bad_cycles_sum\n",
      "time_sum\n"
     ]
    }
   ],
   "source": [
    "print('mean_time_between_failures',':')\n",
    "ret = kbi.get_formulas('mean_time_between_failures')\n",
    "for l in ret:\n",
    "    print(l)"
   ]
  },
  {
   "cell_type": "code",
   "execution_count": 7,
   "metadata": {},
   "outputs": [
    {
     "name": "stdout",
     "output_type": "stream",
     "text": [
      "availability :\n",
      "availability\n",
      "time_sum\n"
     ]
    }
   ],
   "source": [
    "print('availability',':')\n",
    "ret = kbi.get_formulas('availability')\n",
    "for l in ret:\n",
    "    print(l)"
   ]
  }
 ],
 "metadata": {
  "kernelspec": {
   "display_name": ".venv",
   "language": "python",
   "name": "python3"
  },
  "language_info": {
   "codemirror_mode": {
    "name": "ipython",
    "version": 3
   },
   "file_extension": ".py",
   "mimetype": "text/x-python",
   "name": "python",
   "nbconvert_exporter": "python",
   "pygments_lexer": "ipython3",
   "version": "3.12.2"
  }
 },
 "nbformat": 4,
 "nbformat_minor": 2
}
