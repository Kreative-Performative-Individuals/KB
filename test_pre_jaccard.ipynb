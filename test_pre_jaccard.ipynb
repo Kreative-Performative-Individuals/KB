{
 "cells": [
  {
   "cell_type": "code",
   "execution_count": 1,
   "metadata": {},
   "outputs": [
    {
     "name": "stderr",
     "output_type": "stream",
     "text": [
      "/home/arakiwi/KB/.venv/lib/python3.12/site-packages/tqdm/auto.py:21: TqdmWarning: IProgress not found. Please update jupyter and ipywidgets. See https://ipywidgets.readthedocs.io/en/stable/user_install.html\n",
      "  from .autonotebook import tqdm as notebook_tqdm\n"
     ]
    }
   ],
   "source": [
    "import kb_interface as kbi"
   ]
  },
  {
   "cell_type": "code",
   "execution_count": 2,
   "metadata": {},
   "outputs": [
    {
     "name": "stdout",
     "output_type": "stream",
     "text": [
      "Ontology successfully initialized!\n"
     ]
    }
   ],
   "source": [
    "kbi.start()"
   ]
  },
  {
   "cell_type": "code",
   "execution_count": null,
   "metadata": {},
   "outputs": [
    {
     "name": "stdout",
     "output_type": "stream",
     "text": [
      "utilization_kpi   -   4.025017723168157\n",
      "downtime_kpi   -   3.815799260649246\n",
      "production_efficiency_kpi   -   2.202430963111417\n",
      "consumption_kpi   -   2.1581764369249763\n",
      "cycles_kpi   -   1.629819032673202\n",
      "cost_kpi   -   0.7172645467846246\n",
      "sustainability_kpi   -   0.5379839361939139\n",
      "energy_efficiency_kpi   -   0\n",
      "revenue_kpi   -   0\n",
      "profitability_kpi   -   0\n",
      "prediciton:  utilization_kpi\n"
     ]
    }
   ],
   "source": [
    "kbi.add_kpi_upgrade(None, \n",
    "            'min_time_between_failures', \n",
    "            'Minimum time between failures cumulative over machines and operations', \n",
    "            's', \n",
    "            'A°min°mo[S°/[ R°bad_cycles_sum°T°m°o° ; R°time_sum°T°m°o° ]]',\n",
    "            'min_M_O(bad_cycles_sum(T,m,o)/time_sum(T,m,o))',\n",
    "            True,\n",
    "            True)"
   ]
  },
  {
   "cell_type": "code",
   "execution_count": null,
   "metadata": {},
   "outputs": [],
   "source": [
    "kbi.add_kpi_upgrade(None, \n",
    "            'building_energy_consumpion_sum', \n",
    "            'This KPI measures the cumulative energy consumed by the electrical systems of company-owned buildings and plants. Costs related to energy consumed by production machinery are not part of this measure.', \n",
    "            'kWh', \n",
    "            'A°sum°mo[ A°sum°t[ D°building_energy_consumpion_sum°t°m°o° ] ]',\n",
    "            'Pure KPI',\n",
    "            True,\n",
    "            True)"
   ]
  },
  {
   "cell_type": "code",
   "execution_count": null,
   "metadata": {},
   "outputs": [
    {
     "name": "stdout",
     "output_type": "stream",
     "text": [
      "cost_kpi   -   3.311364900229456\n",
      "consumption_kpi   -   3.262663289695993\n",
      "production_efficiency_kpi   -   3.1021370996388766\n",
      "utilization_kpi   -   2.411461366355884\n",
      "cycles_kpi   -   2.205655232240496\n",
      "sustainability_kpi   -   1.5363222421717728\n",
      "downtime_kpi   -   1.1215978808126184\n",
      "energy_efficiency_kpi   -   0\n",
      "revenue_kpi   -   0\n",
      "profitability_kpi   -   0\n",
      "prediciton:  cost_kpi\n"
     ]
    }
   ],
   "source": [
    "kbi.add_kpi_upgrade(None, \n",
    "            'maintenance_cost_sum', \n",
    "            'This kpi measures the total cost of machine and system maintenance', \n",
    "            '€', \n",
    "            'A°sum°mo[ A°sum°t[ D°maintenance_cost_sum°t°m°o° ] ]',\n",
    "            'Pure KPI',\n",
    "            True,\n",
    "            False)"
   ]
  }
 ],
 "metadata": {
  "kernelspec": {
   "display_name": ".venv",
   "language": "python",
   "name": "python3"
  },
  "language_info": {
   "codemirror_mode": {
    "name": "ipython",
    "version": 3
   },
   "file_extension": ".py",
   "mimetype": "text/x-python",
   "name": "python",
   "nbconvert_exporter": "python",
   "pygments_lexer": "ipython3",
   "version": "3.12.8"
  }
 },
 "nbformat": 4,
 "nbformat_minor": 2
}
