{
 "cells": [
  {
   "cell_type": "code",
   "execution_count": 1,
   "metadata": {},
   "outputs": [],
   "source": [
    "import kb_interface as kbi\n",
    "import Levenshtein  # Library for calculating Levenshtein distance (string similarity)\n"
   ]
  },
  {
   "cell_type": "code",
   "execution_count": 2,
   "metadata": {},
   "outputs": [],
   "source": [
    "def _get_similarity(a, b, method='levenshtein'):\n",
    "    \"\"\"\n",
    "    Computes similarity between two strings using a chosen method.\n",
    "\n",
    "    Parameters:\n",
    "    - a (str): First string to compare.\n",
    "    - b (str): Second string to compare.\n",
    "    - method (str, optional): The method to use, default is 'levenshtein'.\n",
    "\n",
    "    Returns:\n",
    "    - similarity (float): A value between 0 and 1 indicating similarity.\n",
    "    \"\"\"\n",
    "    if method == 'levenshtein':\n",
    "        # Compute Levenshtein distance\n",
    "        distance = Levenshtein.distance(a, b)\n",
    "        # Convert distance to a similarity score\n",
    "        similarity = 1 - distance / max(len(a), len(b))\n",
    "        return similarity\n",
    "    else:\n",
    "        # raise exception if method is not recognized\n",
    "        raise Exception('METHOD NOT FOUND')\n",
    "    \n",
    "def _extract_label(lab):\n",
    "    if isinstance(lab, list):\n",
    "        return str(lab.first())\n",
    "    else:\n",
    "        return str(lab)"
   ]
  },
  {
   "cell_type": "code",
   "execution_count": 2,
   "metadata": {},
   "outputs": [
    {
     "name": "stdout",
     "output_type": "stream",
     "text": [
      "Ontology successfully initialized!\n"
     ]
    }
   ],
   "source": [
    "kbi.start()"
   ]
  },
  {
   "cell_type": "code",
   "execution_count": 6,
   "metadata": {},
   "outputs": [
    {
     "data": {
      "text/plain": [
       "({'label': 'machine_usage_kpi',\n",
       "  'description': 'Machine Usage KPIs are metrics used to monitor and evaluate the effectiveness, efficiency, and productivity of machinery in a production or manufacturing environment. These KPIs help organizations understand how well their machines are performing and identify areas for improvement to reduce downtime, optimize usage, and enhance overall productivity.',\n",
       "  'superclasses': ['kpi'],\n",
       "  'subclasses': ['utilization_kpi', 'downtime_kpi'],\n",
       "  'instances': ['time_max',\n",
       "   'utilization_rate',\n",
       "   'time_sum',\n",
       "   'non_operative_time',\n",
       "   'time_avg',\n",
       "   'mean_time_between_failures',\n",
       "   'time_min',\n",
       "   'availability'],\n",
       "  'entity_type': 'class'},\n",
       " 0.47058823529411764)"
      ]
     },
     "execution_count": 6,
     "metadata": {},
     "output_type": "execute_result"
    }
   ],
   "source": [
    "kbi.get_closest_object_properties('cacca_avg_kpi')"
   ]
  },
  {
   "cell_type": "code",
   "execution_count": 6,
   "metadata": {},
   "outputs": [],
   "source": [
    "kb_interface.PROCESS_CLASS"
   ]
  },
  {
   "cell_type": "code",
   "execution_count": 8,
   "metadata": {},
   "outputs": [
    {
     "ename": "Exception",
     "evalue": "KPI lollo ALREADY EXISTS",
     "output_type": "error",
     "traceback": [
      "\u001b[1;31m---------------------------------------------------------------------------\u001b[0m",
      "\u001b[1;31mException\u001b[0m                                 Traceback (most recent call last)",
      "Cell \u001b[1;32mIn[8], line 1\u001b[0m\n\u001b[1;32m----> 1\u001b[0m \u001b[43madd_kpi\u001b[49m\u001b[43m(\u001b[49m\u001b[38;5;241;43m*\u001b[39;49m\u001b[43m[\u001b[49m\u001b[38;5;124;43m'\u001b[39;49m\u001b[38;5;124;43mutilization_kpi\u001b[39;49m\u001b[38;5;124;43m'\u001b[39;49m\u001b[43m,\u001b[49m\u001b[43m \u001b[49m\n\u001b[0;32m      2\u001b[0m \u001b[43m            \u001b[49m\u001b[38;5;124;43m'\u001b[39;49m\u001b[38;5;124;43mlollo\u001b[39;49m\u001b[38;5;124;43m'\u001b[39;49m\u001b[43m,\u001b[49m\u001b[43m \u001b[49m\n\u001b[0;32m      3\u001b[0m \u001b[43m            \u001b[49m\u001b[38;5;124;43m'\u001b[39;49m\u001b[38;5;124;43mPercentage of machine uptime in respect to machine downtime over each machine-operation pairs\u001b[39;49m\u001b[38;5;124;43m'\u001b[39;49m\u001b[43m,\u001b[49m\u001b[43m \u001b[49m\n\u001b[0;32m      4\u001b[0m \u001b[43m            \u001b[49m\u001b[38;5;124;43m'\u001b[39;49m\u001b[38;5;124;43m%\u001b[39;49m\u001b[38;5;124;43m'\u001b[39;49m\u001b[43m,\u001b[49m\u001b[43m \u001b[49m\n\u001b[0;32m      5\u001b[0m \u001b[43m            \u001b[49m\u001b[38;5;124;43m'\u001b[39;49m\u001b[38;5;124;43mS°*[ S°/[ A°sum°m[ R°time_sum°T°m°working° ] ; S°+[ A°sum°m[ R°time_sum°T°m°idle° ] ; A°sum°m[ R°time_sum°T°m°offline° ] ] ] ; C°100° ]\u001b[39;49m\u001b[38;5;124;43m'\u001b[39;49m\u001b[43m,\u001b[49m\n\u001b[0;32m      6\u001b[0m \u001b[43m            \u001b[49m\u001b[38;5;124;43m'\u001b[39;49m\u001b[38;5;124;43m(sum_M( time_sum(T,m,working)) / ( sum_M(time_sum(T,m,Idle)) + sum_M(time_sum(T,m,offline)) ) )*100\u001b[39;49m\u001b[38;5;124;43m'\u001b[39;49m\u001b[43m,\u001b[49m\n\u001b[0;32m      7\u001b[0m \u001b[43m            \u001b[49m\u001b[38;5;28;43;01mTrue\u001b[39;49;00m\u001b[43m,\u001b[49m\n\u001b[0;32m      8\u001b[0m \u001b[43m            \u001b[49m\u001b[38;5;28;43;01mTrue\u001b[39;49;00m\u001b[43m]\u001b[49m\u001b[43m)\u001b[49m\n",
      "File \u001b[1;32mc:\\Users\\cicci\\Desktop\\uni\\SA\\KB\\kb_interface.py:305\u001b[0m, in \u001b[0;36madd_kpi\u001b[1;34m(superclass, label, description, unit_of_measure, parsable_computation_formula, human_readable_formula, depends_on_machine, depends_on_operation)\u001b[0m\n\u001b[0;32m    303\u001b[0m \u001b[38;5;66;03m# Validate that the KPI label does not already exist.\u001b[39;00m\n\u001b[0;32m    304\u001b[0m \u001b[38;5;28;01mif\u001b[39;00m ONTO\u001b[38;5;241m.\u001b[39msearch(label\u001b[38;5;241m=\u001b[39mlabel):\n\u001b[1;32m--> 305\u001b[0m     \u001b[38;5;28;01mraise\u001b[39;00m \u001b[38;5;167;01mException\u001b[39;00m(\u001b[38;5;124mf\u001b[39m\u001b[38;5;124m'\u001b[39m\u001b[38;5;124mKPI \u001b[39m\u001b[38;5;132;01m{\u001b[39;00mlabel\u001b[38;5;132;01m}\u001b[39;00m\u001b[38;5;124m ALREADY EXISTS\u001b[39m\u001b[38;5;124m'\u001b[39m)\n\u001b[0;32m    307\u001b[0m \u001b[38;5;66;03m# Validate that the superclass is defined and unique.\u001b[39;00m\n\u001b[0;32m    308\u001b[0m target \u001b[38;5;241m=\u001b[39m ONTO\u001b[38;5;241m.\u001b[39msearch(label\u001b[38;5;241m=\u001b[39msuperclass)\n",
      "\u001b[1;31mException\u001b[0m: KPI lollo ALREADY EXISTS"
     ]
    }
   ],
   "source": [
    "add_kpi(*['utilization_kpi', \n",
    "            'lollo', \n",
    "            'Percentage of machine uptime in respect to machine downtime over each machine-operation pairs', \n",
    "            '%', \n",
    "            'S°*[ S°/[ A°sum°m[ R°time_sum°T°m°working° ] ; S°+[ A°sum°m[ R°time_sum°T°m°idle° ] ; A°sum°m[ R°time_sum°T°m°offline° ] ] ] ; C°100° ]',\n",
    "            '(sum_M( time_sum(T,m,working)) / ( sum_M(time_sum(T,m,Idle)) + sum_M(time_sum(T,m,offline)) ) )*100',\n",
    "            True,\n",
    "            True])"
   ]
  },
  {
   "cell_type": "code",
   "execution_count": 11,
   "metadata": {},
   "outputs": [
    {
     "data": {
      "text/plain": [
       "({'label': 'idle',\n",
       "  'description': 'The machine is powered on but not currently performing any tasks. It is ready to resume work but is temporarily paused.',\n",
       "  'superclasses': ['non_productive_operation'],\n",
       "  'entity_type': 'instance'},\n",
       " 0.25)"
      ]
     },
     "execution_count": 11,
     "metadata": {},
     "output_type": "execute_result"
    }
   ],
   "source": [
    "get_closest_object_properties('ddd')"
   ]
  }
 ],
 "metadata": {
  "kernelspec": {
   "display_name": ".venv",
   "language": "python",
   "name": "python3"
  },
  "language_info": {
   "codemirror_mode": {
    "name": "ipython",
    "version": 3
   },
   "file_extension": ".py",
   "mimetype": "text/x-python",
   "name": "python",
   "nbconvert_exporter": "python",
   "pygments_lexer": "ipython3",
   "version": "3.12.2"
  }
 },
 "nbformat": 4,
 "nbformat_minor": 2
}
