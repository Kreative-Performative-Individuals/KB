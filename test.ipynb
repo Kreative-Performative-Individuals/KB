{
 "cells": [
  {
   "cell_type": "code",
   "execution_count": 1,
   "metadata": {},
   "outputs": [],
   "source": [
    "import kb_interface as kbi\n",
    "import Levenshtein  # Library for calculating Levenshtein distance (string similarity)\n"
   ]
  },
  {
   "cell_type": "code",
   "execution_count": 2,
   "metadata": {},
   "outputs": [
    {
     "name": "stdout",
     "output_type": "stream",
     "text": [
      "Ontology successfully initialized!\n"
     ]
    }
   ],
   "source": [
    "kbi.start()"
   ]
  },
  {
   "cell_type": "code",
   "execution_count": 5,
   "metadata": {},
   "outputs": [
    {
     "data": {
      "text/plain": [
       "{'label': 'operation',\n",
       " 'description': 'Represents the various states or activities a machine undergoes, including general states like \"idle\" or \"offline,\" as well as specific operational tasks during production.',\n",
       " 'superclasses': [],\n",
       " 'subclasses': ['non_productive_operation', 'productive_operation'],\n",
       " 'instances': ['independent', 'working', 'offline', 'idle'],\n",
       " 'entity_type': 'class'}"
      ]
     },
     "execution_count": 5,
     "metadata": {},
     "output_type": "execute_result"
    }
   ],
   "source": [
    "kbi.get_object_properties('operation')"
   ]
  },
  {
   "cell_type": "code",
   "execution_count": 4,
   "metadata": {},
   "outputs": [
    {
     "data": {
      "text/plain": [
       "{'label': 'machine',\n",
       " 'description': 'Represents physical machines used in a factory or production environment. Instances of this class refer to the actual machines or equipment employed in manufacturing processes, encompassing some of their properties.',\n",
       " 'superclasses': [],\n",
       " 'subclasses': ['laser_welding_machine',\n",
       "  'metal_cutting_machine',\n",
       "  'testing_machine',\n",
       "  'assembly_machine',\n",
       "  'riveting_machine',\n",
       "  'laser_cutting_machine'],\n",
       " 'instances': ['assembly_machine_2',\n",
       "  'medium_capacity_cutting_machine_1',\n",
       "  'large_capacity_cutting_machine_1',\n",
       "  'laser_cutter',\n",
       "  'assembly_machine_3',\n",
       "  'testing_machine_3',\n",
       "  'assembly_machine_1',\n",
       "  'medium_capacity_cutting_machine_2',\n",
       "  'medium_capacity_cutting_machine_3',\n",
       "  'large_capacity_cutting_machine_2',\n",
       "  'testing_machine_2',\n",
       "  'low_capacity_cutting_machine_1',\n",
       "  'laser_welding_machine_2',\n",
       "  'laser_welding_machine_1',\n",
       "  'riveting_machine_1',\n",
       "  'testing_machine_1'],\n",
       " 'entity_type': 'class'}"
      ]
     },
     "execution_count": 4,
     "metadata": {},
     "output_type": "execute_result"
    }
   ],
   "source": [
    "kbi.get_object_properties('machine')"
   ]
  },
  {
   "cell_type": "code",
   "execution_count": null,
   "metadata": {},
   "outputs": [],
   "source": [
    "kbi.add_process('magic_cover_1', 'make a good solid cover', [()])"
   ]
  },
  {
   "cell_type": "code",
   "execution_count": 11,
   "metadata": {},
   "outputs": [
    {
     "ename": "AttributeError",
     "evalue": "'int' object has no attribute 'namespace'",
     "output_type": "error",
     "traceback": [
      "\u001b[1;31m---------------------------------------------------------------------------\u001b[0m",
      "\u001b[1;31mAttributeError\u001b[0m                            Traceback (most recent call last)",
      "Cell \u001b[1;32mIn[11], line 1\u001b[0m\n\u001b[1;32m----> 1\u001b[0m \u001b[38;5;28;43;01mfor\u001b[39;49;00m\u001b[43m \u001b[49m\u001b[43mw\u001b[49m\u001b[43m \u001b[49m\u001b[38;5;129;43;01min\u001b[39;49;00m\u001b[43m \u001b[49m\u001b[43mkbi\u001b[49m\u001b[38;5;241;43m.\u001b[39;49m\u001b[43mDEPENDS_ON\u001b[49m\u001b[43m:\u001b[49m\n\u001b[0;32m      2\u001b[0m \u001b[43m    \u001b[49m\u001b[38;5;28;43mprint\u001b[39;49m\u001b[43m(\u001b[49m\u001b[43mkbi\u001b[49m\u001b[38;5;241;43m.\u001b[39;49m\u001b[43mDEPENDS_ON\u001b[49m\u001b[43m[\u001b[49m\u001b[43mw\u001b[49m\u001b[43m]\u001b[49m\u001b[43m)\u001b[49m\n",
      "File \u001b[1;32mc:\\Users\\cicci\\Desktop\\uni\\SA\\KB\\.venv\\Lib\\site-packages\\owlready2\\prop.py:381\u001b[0m, in \u001b[0;36mPropertyClass.__getitem__\u001b[1;34m(Prop, entity)\u001b[0m\n\u001b[0;32m    379\u001b[0m   \u001b[38;5;28;01mreturn\u001b[39;00m Prop\u001b[38;5;241m.\u001b[39m_get_values_for_class(entity)\n\u001b[0;32m    380\u001b[0m \u001b[38;5;28;01melse\u001b[39;00m:\n\u001b[1;32m--> 381\u001b[0m   \u001b[38;5;28;01mif\u001b[39;00m Prop \u001b[38;5;129;01mis\u001b[39;00m \u001b[43mentity\u001b[49m\u001b[38;5;241;43m.\u001b[39;49m\u001b[43mnamespace\u001b[49m\u001b[38;5;241m.\u001b[39mworld\u001b[38;5;241m.\u001b[39m_props\u001b[38;5;241m.\u001b[39mget(Prop\u001b[38;5;241m.\u001b[39m_python_name): \u001b[38;5;66;03m# use cached value\u001b[39;00m\n\u001b[0;32m    382\u001b[0m     \u001b[38;5;28;01mif\u001b[39;00m Prop\u001b[38;5;241m.\u001b[39mis_functional_for(entity\u001b[38;5;241m.\u001b[39m\u001b[38;5;18m__class__\u001b[39m):\n\u001b[0;32m    383\u001b[0m       value \u001b[38;5;241m=\u001b[39m \u001b[38;5;28mgetattr\u001b[39m(entity, Prop\u001b[38;5;241m.\u001b[39m_python_name)\n",
      "\u001b[1;31mAttributeError\u001b[0m: 'int' object has no attribute 'namespace'"
     ]
    }
   ],
   "source": [
    "kbi.DEPENDS_ON."
   ]
  },
  {
   "cell_type": "code",
   "execution_count": 10,
   "metadata": {},
   "outputs": [
    {
     "name": "stdout",
     "output_type": "stream",
     "text": [
      "[webprotege.stanford.edu.R9NOqSaVAt7AKU3wXSqEjFr, webprotege.stanford.edu.RS2lMylOEW7gnsTvguXXn2]\n",
      "[webprotege.stanford.edu.R9NOqSaVAt7AKU3wXSqEjFr, webprotege.stanford.edu.RS2lMylOEW7gnsTvguXXn2]\n",
      "KPI total_carbon_footprint successfully deleted from the ontology!\n"
     ]
    }
   ],
   "source": [
    "kbi.delete_kpi('total_carbon_footprint')"
   ]
  },
  {
   "cell_type": "code",
   "execution_count": 9,
   "metadata": {},
   "outputs": [
    {
     "data": {
      "text/plain": [
       "({'label': 'kpi',\n",
       "  'description': 'Represents the superclass in a taxonomy that encompasses key performance indicators (KPIs). Instances of this class are individual KPIs, which are quantifiable metrics used to evaluate the performance or success of an entity, process, or objective.',\n",
       "  'superclasses': [],\n",
       "  'subclasses': ['energy_kpi',\n",
       "   'financial_kpi',\n",
       "   'production_kpi',\n",
       "   'machine_usage_kpi'],\n",
       "  'instances': ['good_cycles_sum',\n",
       "   'power_avg',\n",
       "   'non_operative_time',\n",
       "   'power_mean',\n",
       "   'good_cycles_avg',\n",
       "   'utilization_rate',\n",
       "   'bad_cycles_max',\n",
       "   'time_min',\n",
       "   'cost_avg',\n",
       "   'time_avg',\n",
       "   'cycles_sum',\n",
       "   'success_rate',\n",
       "   'operative_consumption',\n",
       "   'good_cycles_min',\n",
       "   'overall_equipment_effectiveness',\n",
       "   'consumption_min',\n",
       "   'power_min',\n",
       "   'cycles_avg',\n",
       "   'consumption_sum',\n",
       "   'failure_rate',\n",
       "   'cost_sum',\n",
       "   'bad_cycles_min',\n",
       "   'bad_cycles_avg',\n",
       "   'total_consumption',\n",
       "   'power_cumulative',\n",
       "   'consumption_max',\n",
       "   'power_max',\n",
       "   'time_max',\n",
       "   'average_cycle_time_avg',\n",
       "   'availability',\n",
       "   'bad_cycles_sum',\n",
       "   'time_sum',\n",
       "   'cycles_max',\n",
       "   'total_carbon_footprint',\n",
       "   'good_cycles_max',\n",
       "   'cost_min',\n",
       "   'cost_per_cycle',\n",
       "   'cost_max',\n",
       "   'consumption_avg',\n",
       "   'total_energy_cost',\n",
       "   'mean_time_between_failures',\n",
       "   'cycles_min',\n",
       "   'energy_efficiency'],\n",
       "  'entity_type': 'class'},\n",
       " 1)"
      ]
     },
     "execution_count": 9,
     "metadata": {},
     "output_type": "execute_result"
    }
   ],
   "source": [
    "kbi.get_closest_object_properties('kpi')"
   ]
  },
  {
   "cell_type": "code",
   "execution_count": 8,
   "metadata": {},
   "outputs": [
    {
     "ename": "Exception",
     "evalue": "KPI lollo ALREADY EXISTS",
     "output_type": "error",
     "traceback": [
      "\u001b[1;31m---------------------------------------------------------------------------\u001b[0m",
      "\u001b[1;31mException\u001b[0m                                 Traceback (most recent call last)",
      "Cell \u001b[1;32mIn[8], line 1\u001b[0m\n\u001b[1;32m----> 1\u001b[0m \u001b[43madd_kpi\u001b[49m\u001b[43m(\u001b[49m\u001b[38;5;241;43m*\u001b[39;49m\u001b[43m[\u001b[49m\u001b[38;5;124;43m'\u001b[39;49m\u001b[38;5;124;43mutilization_kpi\u001b[39;49m\u001b[38;5;124;43m'\u001b[39;49m\u001b[43m,\u001b[49m\u001b[43m \u001b[49m\n\u001b[0;32m      2\u001b[0m \u001b[43m            \u001b[49m\u001b[38;5;124;43m'\u001b[39;49m\u001b[38;5;124;43mlollo\u001b[39;49m\u001b[38;5;124;43m'\u001b[39;49m\u001b[43m,\u001b[49m\u001b[43m \u001b[49m\n\u001b[0;32m      3\u001b[0m \u001b[43m            \u001b[49m\u001b[38;5;124;43m'\u001b[39;49m\u001b[38;5;124;43mPercentage of machine uptime in respect to machine downtime over each machine-operation pairs\u001b[39;49m\u001b[38;5;124;43m'\u001b[39;49m\u001b[43m,\u001b[49m\u001b[43m \u001b[49m\n\u001b[0;32m      4\u001b[0m \u001b[43m            \u001b[49m\u001b[38;5;124;43m'\u001b[39;49m\u001b[38;5;124;43m%\u001b[39;49m\u001b[38;5;124;43m'\u001b[39;49m\u001b[43m,\u001b[49m\u001b[43m \u001b[49m\n\u001b[0;32m      5\u001b[0m \u001b[43m            \u001b[49m\u001b[38;5;124;43m'\u001b[39;49m\u001b[38;5;124;43mS°*[ S°/[ A°sum°m[ R°time_sum°T°m°working° ] ; S°+[ A°sum°m[ R°time_sum°T°m°idle° ] ; A°sum°m[ R°time_sum°T°m°offline° ] ] ] ; C°100° ]\u001b[39;49m\u001b[38;5;124;43m'\u001b[39;49m\u001b[43m,\u001b[49m\n\u001b[0;32m      6\u001b[0m \u001b[43m            \u001b[49m\u001b[38;5;124;43m'\u001b[39;49m\u001b[38;5;124;43m(sum_M( time_sum(T,m,working)) / ( sum_M(time_sum(T,m,Idle)) + sum_M(time_sum(T,m,offline)) ) )*100\u001b[39;49m\u001b[38;5;124;43m'\u001b[39;49m\u001b[43m,\u001b[49m\n\u001b[0;32m      7\u001b[0m \u001b[43m            \u001b[49m\u001b[38;5;28;43;01mTrue\u001b[39;49;00m\u001b[43m,\u001b[49m\n\u001b[0;32m      8\u001b[0m \u001b[43m            \u001b[49m\u001b[38;5;28;43;01mTrue\u001b[39;49;00m\u001b[43m]\u001b[49m\u001b[43m)\u001b[49m\n",
      "File \u001b[1;32mc:\\Users\\cicci\\Desktop\\uni\\SA\\KB\\kb_interface.py:305\u001b[0m, in \u001b[0;36madd_kpi\u001b[1;34m(superclass, label, description, unit_of_measure, parsable_computation_formula, human_readable_formula, depends_on_machine, depends_on_operation)\u001b[0m\n\u001b[0;32m    303\u001b[0m \u001b[38;5;66;03m# Validate that the KPI label does not already exist.\u001b[39;00m\n\u001b[0;32m    304\u001b[0m \u001b[38;5;28;01mif\u001b[39;00m ONTO\u001b[38;5;241m.\u001b[39msearch(label\u001b[38;5;241m=\u001b[39mlabel):\n\u001b[1;32m--> 305\u001b[0m     \u001b[38;5;28;01mraise\u001b[39;00m \u001b[38;5;167;01mException\u001b[39;00m(\u001b[38;5;124mf\u001b[39m\u001b[38;5;124m'\u001b[39m\u001b[38;5;124mKPI \u001b[39m\u001b[38;5;132;01m{\u001b[39;00mlabel\u001b[38;5;132;01m}\u001b[39;00m\u001b[38;5;124m ALREADY EXISTS\u001b[39m\u001b[38;5;124m'\u001b[39m)\n\u001b[0;32m    307\u001b[0m \u001b[38;5;66;03m# Validate that the superclass is defined and unique.\u001b[39;00m\n\u001b[0;32m    308\u001b[0m target \u001b[38;5;241m=\u001b[39m ONTO\u001b[38;5;241m.\u001b[39msearch(label\u001b[38;5;241m=\u001b[39msuperclass)\n",
      "\u001b[1;31mException\u001b[0m: KPI lollo ALREADY EXISTS"
     ]
    }
   ],
   "source": [
    "add_kpi(*['utilization_kpi', \n",
    "            'lollo', \n",
    "            'Percentage of machine uptime in respect to machine downtime over each machine-operation pairs', \n",
    "            '%', \n",
    "            'S°*[ S°/[ A°sum°m[ R°time_sum°T°m°working° ] ; S°+[ A°sum°m[ R°time_sum°T°m°idle° ] ; A°sum°m[ R°time_sum°T°m°offline° ] ] ] ; C°100° ]',\n",
    "            '(sum_M( time_sum(T,m,working)) / ( sum_M(time_sum(T,m,Idle)) + sum_M(time_sum(T,m,offline)) ) )*100',\n",
    "            True,\n",
    "            True])"
   ]
  },
  {
   "cell_type": "code",
   "execution_count": 11,
   "metadata": {},
   "outputs": [
    {
     "data": {
      "text/plain": [
       "({'label': 'idle',\n",
       "  'description': 'The machine is powered on but not currently performing any tasks. It is ready to resume work but is temporarily paused.',\n",
       "  'superclasses': ['non_productive_operation'],\n",
       "  'entity_type': 'instance'},\n",
       " 0.25)"
      ]
     },
     "execution_count": 11,
     "metadata": {},
     "output_type": "execute_result"
    }
   ],
   "source": [
    "get_closest_object_properties('ddd')"
   ]
  }
 ],
 "metadata": {
  "kernelspec": {
   "display_name": ".venv",
   "language": "python",
   "name": "python3"
  },
  "language_info": {
   "codemirror_mode": {
    "name": "ipython",
    "version": 3
   },
   "file_extension": ".py",
   "mimetype": "text/x-python",
   "name": "python",
   "nbconvert_exporter": "python",
   "pygments_lexer": "ipython3",
   "version": "3.12.2"
  }
 },
 "nbformat": 4,
 "nbformat_minor": 2
}
