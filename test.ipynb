{
 "cells": [
  {
   "cell_type": "code",
   "execution_count": 1,
   "metadata": {},
   "outputs": [],
   "source": [
    "from kb_interface import *"
   ]
  },
  {
   "cell_type": "code",
   "execution_count": 2,
   "metadata": {},
   "outputs": [
    {
     "name": "stdout",
     "output_type": "stream",
     "text": [
      "Ontology successfully initialized!\n"
     ]
    }
   ],
   "source": [
    "start()"
   ]
  },
  {
   "cell_type": "code",
   "execution_count": 5,
   "metadata": {},
   "outputs": [
    {
     "name": "stdout",
     "output_type": "stream",
     "text": [
      "KPI lollo LABEL ALREADY EXISTS\n"
     ]
    }
   ],
   "source": [
    "add_kpi(*['utilization_kpi', \n",
    "            'lollo', \n",
    "            'Percentage of machine uptime in respect to machine downtime over each machine-operation pairs', \n",
    "            '%', \n",
    "            'S°*[ S°/[ A°sum°m[ R°time_sum°T°m°working° ] ; S°+[ A°sum°m[ R°time_sum°T°m°idle° ] ; A°sum°m[ R°time_sum°T°m°offline° ] ] ] ; C°100° ]',\n",
    "            '(sum_M( time_sum(T,m,working)) / ( sum_M(time_sum(T,m,Idle)) + sum_M(time_sum(T,m,offline)) ) )*100',\n",
    "            True,\n",
    "            True])"
   ]
  },
  {
   "cell_type": "code",
   "execution_count": 4,
   "metadata": {},
   "outputs": [
    {
     "data": {
      "text/plain": [
       "({'label': 'total_carbon_footprint',\n",
       "  'description': 'This KPI is a sustainability metric that measures the amount of CO2 emissions produced globally for a process, machine, or system. It provides insights into the environmental impact, enabling organizations to track and reduce their carbon emissions.',\n",
       "  'unit_of_measure': 'CO2 Emissions',\n",
       "  'human_readable_formula': 'sum_M_O(total_consumption(T,m,o)*estimated_italian_emission_factor(400))',\n",
       "  'depends_on': ['operation', 'machine'],\n",
       "  'parsable_computation_formula': 'A°sum°mo[S°*[ R°total_consumption°T°m°o° ; C°400°]]',\n",
       "  'depends_on_other_kpi': ['total_consumption'],\n",
       "  'superclasses': ['sustainability_kpi'],\n",
       "  'entity_type': 'instance'},\n",
       " 1)"
      ]
     },
     "execution_count": 4,
     "metadata": {},
     "output_type": "execute_result"
    }
   ],
   "source": [
    "get_closest_object_properties('total_carbon_footprint')"
   ]
  }
 ],
 "metadata": {
  "kernelspec": {
   "display_name": ".venv",
   "language": "python",
   "name": "python3"
  },
  "language_info": {
   "codemirror_mode": {
    "name": "ipython",
    "version": 3
   },
   "file_extension": ".py",
   "mimetype": "text/x-python",
   "name": "python",
   "nbconvert_exporter": "python",
   "pygments_lexer": "ipython3",
   "version": "3.12.2"
  }
 },
 "nbformat": 4,
 "nbformat_minor": 2
}
