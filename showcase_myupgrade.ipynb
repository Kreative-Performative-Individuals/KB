{
 "cells": [
  {
   "cell_type": "code",
   "execution_count": 1,
   "metadata": {},
   "outputs": [
    {
     "name": "stderr",
     "output_type": "stream",
     "text": [
      "c:\\Users\\cicci\\Desktop\\uni\\SA\\KB\\kb_interface.py:178: SyntaxWarning: \"is\" with 'str' literal. Did you mean \"==\"?\n",
      "  elif b_suffix is 'sum':\n"
     ]
    }
   ],
   "source": [
    "import kb_interface as kbi"
   ]
  },
  {
   "cell_type": "code",
   "execution_count": 2,
   "metadata": {},
   "outputs": [
    {
     "name": "stdout",
     "output_type": "stream",
     "text": [
      "Ontology successfully initialized!\n"
     ]
    }
   ],
   "source": [
    "kbi.start()"
   ]
  },
  {
   "cell_type": "code",
   "execution_count": 3,
   "metadata": {},
   "outputs": [],
   "source": [
    "process_1 = {\n",
    "    \"process_label\": \"phone_cover_creation\",\n",
    "    \"process_description\": \"Production process for a phone cover, including cutting, welding, assembly, and quality testing.\",\n",
    "    \"steps_list\": [\n",
    "        (\"medium_capacity_cutting_machine_1\", \"material_cutting\"),\n",
    "        (\"laser_welding_machine_1\", \"edge_welding\"),\n",
    "        (\"assembly_machine_2\", \"assembly\"),\n",
    "        (\"testing_machine_1\", \"quality_testing\")\n",
    "    ]\n",
    "}\n",
    "process_2 = {\n",
    "    \"process_label\": \"customized_keychain_production\",\n",
    "    \"process_description\": \"Production of customized keychains through cutting, welding, and riveting operations.\",\n",
    "    \"steps_list\": [\n",
    "        (\"laser_cutter\", \"metal_cutting\"),\n",
    "        (\"laser_welding_machine_2\", \"parts_welding\"),\n",
    "        (\"riveting_machine_1\", \"riveting\")\n",
    "    ]\n",
    "}\n",
    "process_3 = {\n",
    "    \"process_label\": \"drone_component_manufacturing\",\n",
    "    \"process_description\": \"Manufacturing process for drone components, involving precision cutting, assembly, and testing.\",\n",
    "    \"steps_list\": [\n",
    "        (\"low_capacity_cutting_machine_1\", \"precision_cutting\"),\n",
    "        (\"assembly_machine_1\", \"assembly\"),\n",
    "        (\"testing_machine_2\", \"aerodynamic_testing\")\n",
    "    ]\n",
    "}\n",
    "process_4 = {\n",
    "    \"process_label\": \"complex_industrial_part_production\",\n",
    "    \"process_description\": \"Manufacturing process for a complex industrial part, involving cutting, welding, riveting, assembly, and testing.\",\n",
    "    \"steps_list\": [\n",
    "        (\"medium_capacity_cutting_machine_1\", \"material_cutting\"),\n",
    "        (\"large_capacity_cutting_machine_1\", \"rough_cutting\"),\n",
    "        (\"laser_cutter\", \"precision_cutting\"),\n",
    "        (\"laser_welding_machine_2\", \"welding_parts\"),\n",
    "        (\"laser_welding_machine_1\", \"final_welding\"),\n",
    "        (\"riveting_machine_1\", \"riveting_assembly\"),\n",
    "        (\"assembly_machine_2\", \"pre_assembly\"),\n",
    "        (\"assembly_machine_3\", \"final_assembly\"),\n",
    "        (\"testing_machine_1\", \"visual_inspection\"),\n",
    "        (\"testing_machine_2\", \"functional_testing\"),\n",
    "        (\"testing_machine_3\", \"stress_testing\")\n",
    "    ]\n",
    "}\n"
   ]
  },
  {
   "cell_type": "code",
   "execution_count": 4,
   "metadata": {},
   "outputs": [
    {
     "name": "stdout",
     "output_type": "stream",
     "text": [
      "Operation material_cutting successfully added to the ontology!\n",
      "Operation edge_welding successfully added to the ontology!\n",
      "Operation assembly successfully added to the ontology!\n",
      "Operation quality_testing successfully added to the ontology!\n",
      "Operation metal_cutting successfully added to the ontology!\n",
      "Operation parts_welding successfully added to the ontology!\n",
      "Operation riveting successfully added to the ontology!\n",
      "Operation precision_cutting successfully added to the ontology!\n",
      "Operation aerodynamic_testing successfully added to the ontology!\n",
      "Operation rough_cutting successfully added to the ontology!\n",
      "Operation welding_parts successfully added to the ontology!\n",
      "Operation final_welding successfully added to the ontology!\n",
      "Operation riveting_assembly successfully added to the ontology!\n",
      "Operation pre_assembly successfully added to the ontology!\n",
      "Operation final_assembly successfully added to the ontology!\n",
      "Operation visual_inspection successfully added to the ontology!\n",
      "Operation functional_testing successfully added to the ontology!\n",
      "Operation stress_testing successfully added to the ontology!\n"
     ]
    }
   ],
   "source": [
    "operations = [\n",
    "    \"material_cutting\",\n",
    "    \"edge_welding\",\n",
    "    \"assembly\",\n",
    "    \"quality_testing\",\n",
    "    \"metal_cutting\",\n",
    "    \"parts_welding\",\n",
    "    \"riveting\",\n",
    "    \"precision_cutting\",\n",
    "    \"aerodynamic_testing\",\n",
    "    \"rough_cutting\",\n",
    "    \"welding_parts\",\n",
    "    \"final_welding\",\n",
    "    \"riveting_assembly\",\n",
    "    \"pre_assembly\",\n",
    "    \"final_assembly\",\n",
    "    \"visual_inspection\",\n",
    "    \"functional_testing\",\n",
    "    \"stress_testing\"\n",
    "]\n",
    "\n",
    "# Example descriptions for each operation (you can customize them further)\n",
    "descriptions = {\n",
    "    \"material_cutting\": \"Cutting raw materials into specified shapes and sizes.\",\n",
    "    \"edge_welding\": \"Welding edges of parts to ensure they fit together.\",\n",
    "    \"assembly\": \"Assembling parts into a finished product.\",\n",
    "    \"quality_testing\": \"Testing the product to ensure it meets quality standards.\",\n",
    "    \"metal_cutting\": \"Cutting metal into specific shapes or dimensions.\",\n",
    "    \"parts_welding\": \"Welding various parts together to form a complete component.\",\n",
    "    \"riveting\": \"Using rivets to permanently attach parts together.\",\n",
    "    \"precision_cutting\": \"Cutting with high precision for detailed components.\",\n",
    "    \"aerodynamic_testing\": \"Testing the aerodynamic properties of components.\",\n",
    "    \"rough_cutting\": \"Initial cutting to remove excess material.\",\n",
    "    \"welding_parts\": \"Joining parts using welding techniques.\",\n",
    "    \"final_welding\": \"Final welding stage to complete the component.\",\n",
    "    \"riveting_assembly\": \"Assembling parts using rivets for secure attachment.\",\n",
    "    \"pre_assembly\": \"Preliminary assembly steps before final assembly.\",\n",
    "    \"final_assembly\": \"Final assembly stage of the product.\",\n",
    "    \"visual_inspection\": \"Inspecting the product visually for defects.\",\n",
    "    \"functional_testing\": \"Testing the functionality of the product to ensure it works.\",\n",
    "    \"stress_testing\": \"Testing the product under stress conditions to evaluate its durability.\"\n",
    "}\n",
    "\n",
    "# Loop over the operations and create the function call for each\n",
    "for operation in operations:\n",
    "    description = descriptions.get(operation, \"No description available.\")\n",
    "    kbi.add_operation(operation, description)\n"
   ]
  },
  {
   "cell_type": "code",
   "execution_count": 5,
   "metadata": {},
   "outputs": [],
   "source": [
    "kbi.add_process(**process_1)\n",
    "kbi.add_process(**process_2)\n",
    "kbi.add_process(**process_3)\n",
    "kbi.add_process(**process_4)"
   ]
  },
  {
   "cell_type": "code",
   "execution_count": 11,
   "metadata": {},
   "outputs": [
    {
     "name": "stdout",
     "output_type": "stream",
     "text": [
      "PROCESS phone_cover_creation successfully deleted from the ontology!\n"
     ]
    }
   ],
   "source": [
    "kbi.delete_process(process_1['process_label'])"
   ]
  },
  {
   "cell_type": "code",
   "execution_count": 6,
   "metadata": {},
   "outputs": [
    {
     "data": {
      "text/plain": [
       "({'label': 'cycles_kpi',\n",
       "  'description': 'A subclass of production_kpi  that represents key performance indicators related to the number of production cycles completed within a specific time frame. Instances of this class measure the frequency or volume of production cycles, providing insights into the throughput, and overall productivity of manufacturing or production processes. These metrics are critical for evaluating operational performance and identifying opportunities for process improvements.',\n",
       "  'superclasses': ['production_kpi'],\n",
       "  'subclasses': [],\n",
       "  'instances': ['cycles_min',\n",
       "   'cycles_avg',\n",
       "   'average_cycle_time_avg',\n",
       "   'cycles_max',\n",
       "   'cycles_sum'],\n",
       "  'entity_type': 'class'},\n",
       " 0.6)"
      ]
     },
     "execution_count": 6,
     "metadata": {},
     "output_type": "execute_result"
    }
   ],
   "source": [
    "kbi.get_closest_object_properties('cycles', method='levenshtein')"
   ]
  },
  {
   "cell_type": "code",
   "execution_count": 7,
   "metadata": {},
   "outputs": [
    {
     "data": {
      "text/plain": [
       "({'label': 'time_sum',\n",
       "  'description': 'This KPI measures the cumulative time each machine used to perform the associated operation for every machine-operation pairs.',\n",
       "  'unit_of_measure': 's',\n",
       "  'human_readable_formula': 'Pure KPI',\n",
       "  'depends_on': ['machine', 'operation'],\n",
       "  'database_id': 'time_sum',\n",
       "  'parsable_computation_formula': 'A°sum°mo[ A°sum°t[ D°time_sum°t°m°o° ]]',\n",
       "  'depends_on_other_kpi': [],\n",
       "  'superclasses': ['utilization_kpi'],\n",
       "  'entity_type': 'instance'},\n",
       " 0.8500000015)"
      ]
     },
     "execution_count": 7,
     "metadata": {},
     "output_type": "execute_result"
    }
   ],
   "source": [
    "kbi.get_closest_object_properties('time')"
   ]
  }
 ],
 "metadata": {
  "kernelspec": {
   "display_name": ".venv",
   "language": "python",
   "name": "python3"
  },
  "language_info": {
   "codemirror_mode": {
    "name": "ipython",
    "version": 3
   },
   "file_extension": ".py",
   "mimetype": "text/x-python",
   "name": "python",
   "nbconvert_exporter": "python",
   "pygments_lexer": "ipython3",
   "version": "3.12.2"
  }
 },
 "nbformat": 4,
 "nbformat_minor": 2
}
