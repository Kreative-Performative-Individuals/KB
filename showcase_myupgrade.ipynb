{
 "cells": [
  {
   "cell_type": "code",
   "execution_count": 1,
   "metadata": {},
   "outputs": [],
   "source": [
    "import kb_interface as kbi"
   ]
  },
  {
   "cell_type": "code",
   "execution_count": 2,
   "metadata": {},
   "outputs": [
    {
     "name": "stdout",
     "output_type": "stream",
     "text": [
      "Ontology successfully initialized!\n"
     ]
    }
   ],
   "source": [
    "kbi.start()"
   ]
  },
  {
   "cell_type": "code",
   "execution_count": 3,
   "metadata": {},
   "outputs": [],
   "source": [
    "operations = [\n",
    "    \"material_cutting\",\n",
    "    \"edge_welding\",\n",
    "    \"assembly\",\n",
    "    \"quality_testing\",\n",
    "    \"metal_cutting\",\n",
    "    \"parts_welding\",\n",
    "    \"riveting\",\n",
    "    \"precision_cutting\",\n",
    "    \"aerodynamic_testing\",\n",
    "    \"rough_cutting\",\n",
    "    \"welding_parts\",\n",
    "    \"final_welding\",\n",
    "    \"riveting_assembly\",\n",
    "    \"pre_assembly\",\n",
    "    \"final_assembly\",\n",
    "    \"visual_inspection\",\n",
    "    \"functional_testing\",\n",
    "    \"stress_testing\"\n",
    "]\n",
    "\n",
    "# Example descriptions for each operation (you can customize them further)\n",
    "descriptions = {\n",
    "    \"material_cutting\": \"Cutting raw materials into specified shapes and sizes.\",\n",
    "    \"edge_welding\": \"Welding edges of parts to ensure they fit together.\",\n",
    "    \"assembly\": \"Assembling parts into a finished product.\",\n",
    "    \"quality_testing\": \"Testing the product to ensure it meets quality standards.\",\n",
    "    \"metal_cutting\": \"Cutting metal into specific shapes or dimensions.\",\n",
    "    \"parts_welding\": \"Welding various parts together to form a complete component.\",\n",
    "    \"riveting\": \"Using rivets to permanently attach parts together.\",\n",
    "    \"precision_cutting\": \"Cutting with high precision for detailed components.\",\n",
    "    \"aerodynamic_testing\": \"Testing the aerodynamic properties of components.\",\n",
    "    \"rough_cutting\": \"Initial cutting to remove excess material.\",\n",
    "    \"welding_parts\": \"Joining parts using welding techniques.\",\n",
    "    \"final_welding\": \"Final welding stage to complete the component.\",\n",
    "    \"riveting_assembly\": \"Assembling parts using rivets for secure attachment.\",\n",
    "    \"pre_assembly\": \"Preliminary assembly steps before final assembly.\",\n",
    "    \"final_assembly\": \"Final assembly stage of the product.\",\n",
    "    \"visual_inspection\": \"Inspecting the product visually for defects.\",\n",
    "    \"functional_testing\": \"Testing the functionality of the product to ensure it works.\",\n",
    "    \"stress_testing\": \"Testing the product under stress conditions to evaluate its durability.\"\n",
    "}"
   ]
  },
  {
   "cell_type": "code",
   "execution_count": 4,
   "metadata": {},
   "outputs": [
    {
     "name": "stdout",
     "output_type": "stream",
     "text": [
      "Operation material_cutting successfully added to the ontology!\n",
      "Operation edge_welding successfully added to the ontology!\n",
      "Operation assembly successfully added to the ontology!\n",
      "Operation quality_testing successfully added to the ontology!\n",
      "Operation metal_cutting successfully added to the ontology!\n",
      "Operation parts_welding successfully added to the ontology!\n",
      "Operation riveting successfully added to the ontology!\n",
      "Operation precision_cutting successfully added to the ontology!\n",
      "Operation aerodynamic_testing successfully added to the ontology!\n",
      "Operation rough_cutting successfully added to the ontology!\n",
      "Operation welding_parts successfully added to the ontology!\n",
      "Operation final_welding successfully added to the ontology!\n",
      "Operation riveting_assembly successfully added to the ontology!\n",
      "Operation pre_assembly successfully added to the ontology!\n",
      "Operation final_assembly successfully added to the ontology!\n",
      "Operation visual_inspection successfully added to the ontology!\n",
      "Operation functional_testing successfully added to the ontology!\n",
      "Operation stress_testing successfully added to the ontology!\n"
     ]
    }
   ],
   "source": [
    "for operation in operations:\n",
    "    description = descriptions.get(operation, \"No description available.\")\n",
    "    kbi.add_operation(operation, description)"
   ]
  },
  {
   "cell_type": "code",
   "execution_count": 5,
   "metadata": {},
   "outputs": [],
   "source": [
    "process_1 = {\n",
    "    \"process_label\": \"phone_cover_creation\",\n",
    "    \"process_description\": \"Production process for a phone cover, including cutting, welding, assembly, and quality testing.\",\n",
    "    \"steps_list\": [\n",
    "        (\"medium_capacity_cutting_machine_1\", \"material_cutting\"),\n",
    "        (\"laser_welding_machine_1\", \"edge_welding\"),\n",
    "        (\"assembly_machine_2\", \"assembly\"),\n",
    "        (\"testing_machine_1\", \"quality_testing\")\n",
    "    ]\n",
    "}\n",
    "process_2 = {\n",
    "    \"process_label\": \"customized_keychain_production\",\n",
    "    \"process_description\": \"Production of customized keychains through cutting, welding, and riveting operations.\",\n",
    "    \"steps_list\": [\n",
    "        (\"laser_cutter\", \"metal_cutting\"),\n",
    "        (\"laser_welding_machine_2\", \"parts_welding\"),\n",
    "        (\"riveting_machine_1\", \"riveting\")\n",
    "    ]\n",
    "}\n",
    "process_3 = {\n",
    "    \"process_label\": \"drone_component_manufacturing\",\n",
    "    \"process_description\": \"Manufacturing process for drone components, involving precision cutting, assembly, and testing.\",\n",
    "    \"steps_list\": [\n",
    "        (\"low_capacity_cutting_machine_1\", \"precision_cutting\"),\n",
    "        (\"assembly_machine_1\", \"assembly\"),\n",
    "        (\"testing_machine_2\", \"aerodynamic_testing\")\n",
    "    ]\n",
    "}\n",
    "process_4 = {\n",
    "    \"process_label\": \"complex_industrial_part_production\",\n",
    "    \"process_description\": \"Manufacturing process for a complex industrial part, involving cutting, welding, riveting, assembly, and testing.\",\n",
    "    \"steps_list\": [\n",
    "        (\"medium_capacity_cutting_machine_1\", \"material_cutting\"),\n",
    "        (\"large_capacity_cutting_machine_1\", \"rough_cutting\"),\n",
    "        (\"laser_cutter\", \"precision_cutting\"),\n",
    "        (\"laser_welding_machine_2\", \"welding_parts\"),\n",
    "        (\"laser_welding_machine_1\", \"final_welding\"),\n",
    "        (\"riveting_machine_1\", \"riveting_assembly\"),\n",
    "        (\"assembly_machine_2\", \"pre_assembly\"),\n",
    "        (\"assembly_machine_3\", \"final_assembly\"),\n",
    "        (\"testing_machine_1\", \"visual_inspection\"),\n",
    "        (\"testing_machine_2\", \"functional_testing\"),\n",
    "        (\"testing_machine_3\", \"stress_testing\")\n",
    "    ]\n",
    "}\n"
   ]
  },
  {
   "cell_type": "code",
   "execution_count": 6,
   "metadata": {},
   "outputs": [
    {
     "name": "stdout",
     "output_type": "stream",
     "text": [
      "Process phone_cover_creation successfully added to the ontology!\n",
      "Process customized_keychain_production successfully added to the ontology!\n",
      "Process drone_component_manufacturing successfully added to the ontology!\n",
      "Process complex_industrial_part_production successfully added to the ontology!\n"
     ]
    }
   ],
   "source": [
    "kbi.add_process(**process_1)\n",
    "kbi.add_process(**process_2)\n",
    "kbi.add_process(**process_3)\n",
    "kbi.add_process(**process_4)"
   ]
  },
  {
   "cell_type": "code",
   "execution_count": 7,
   "metadata": {},
   "outputs": [
    {
     "name": "stdout",
     "output_type": "stream",
     "text": [
      "Process phone_cover_creation successfully deleted from the ontology!\n"
     ]
    }
   ],
   "source": [
    "kbi.delete_process(process_1['process_label'])"
   ]
  },
  {
   "cell_type": "code",
   "execution_count": 8,
   "metadata": {},
   "outputs": [
    {
     "ename": "Exception",
     "evalue": "OPERATION riveting_assembly IS USED IN THE PROCESS_STEP complex_industrial_part_production_6_riveting_machine_1_riveting_assembly",
     "output_type": "error",
     "traceback": [
      "\u001b[1;31m---------------------------------------------------------------------------\u001b[0m",
      "\u001b[1;31mException\u001b[0m                                 Traceback (most recent call last)",
      "Cell \u001b[1;32mIn[8], line 1\u001b[0m\n\u001b[1;32m----> 1\u001b[0m \u001b[43mkbi\u001b[49m\u001b[38;5;241;43m.\u001b[39;49m\u001b[43mdelete_operation\u001b[49m\u001b[43m(\u001b[49m\u001b[38;5;124;43m'\u001b[39;49m\u001b[38;5;124;43mriveting_assembly\u001b[39;49m\u001b[38;5;124;43m'\u001b[39;49m\u001b[43m)\u001b[49m\n",
      "File \u001b[1;32mc:\\Users\\cicci\\Desktop\\uni\\SA\\KB\\kb_interface.py:503\u001b[0m, in \u001b[0;36mdelete_operation\u001b[1;34m(label)\u001b[0m\n\u001b[0;32m    501\u001b[0m \u001b[38;5;28;01mfor\u001b[39;00m mo \u001b[38;5;129;01min\u001b[39;00m MACHINE_OPERATION_CLASS\u001b[38;5;241m.\u001b[39minstances():\n\u001b[0;32m    502\u001b[0m     \u001b[38;5;28;01mif\u001b[39;00m target \u001b[38;5;129;01min\u001b[39;00m ASSOCIATED_OPERATION[mo]:\n\u001b[1;32m--> 503\u001b[0m         \u001b[38;5;28;01mraise\u001b[39;00m \u001b[38;5;167;01mException\u001b[39;00m(\u001b[38;5;124mf\u001b[39m\u001b[38;5;124m\"\u001b[39m\u001b[38;5;124mOPERATION \u001b[39m\u001b[38;5;132;01m{\u001b[39;00mlabel\u001b[38;5;132;01m}\u001b[39;00m\u001b[38;5;124m IS USED IN THE PROCESS_STEP \u001b[39m\u001b[38;5;132;01m{\u001b[39;00m_extract_label(mo\u001b[38;5;241m.\u001b[39mlabel)\u001b[38;5;132;01m}\u001b[39;00m\u001b[38;5;124m\"\u001b[39m)\n\u001b[0;32m    505\u001b[0m \u001b[38;5;66;03m# Remove the operation from the ontology.\u001b[39;00m\n\u001b[0;32m    506\u001b[0m or2\u001b[38;5;241m.\u001b[39mdestroy_entity(target)\n",
      "\u001b[1;31mException\u001b[0m: OPERATION riveting_assembly IS USED IN THE PROCESS_STEP complex_industrial_part_production_6_riveting_machine_1_riveting_assembly"
     ]
    }
   ],
   "source": [
    "kbi.delete_operation('riveting_assembly')"
   ]
  },
  {
   "cell_type": "code",
   "execution_count": 9,
   "metadata": {},
   "outputs": [
    {
     "name": "stdout",
     "output_type": "stream",
     "text": [
      "Operation independent successfully deleted from the ontology!\n"
     ]
    }
   ],
   "source": [
    "kbi.delete_operation('independent')"
   ]
  },
  {
   "cell_type": "code",
   "execution_count": 12,
   "metadata": {},
   "outputs": [
    {
     "data": {
      "text/plain": [
       "({'label': 'cycles_kpi',\n",
       "  'description': 'A subclass of production_kpi  that represents key performance indicators related to the number of production cycles completed within a specific time frame. Instances of this class measure the frequency or volume of production cycles, providing insights into the throughput, and overall productivity of manufacturing or production processes. These metrics are critical for evaluating operational performance and identifying opportunities for process improvements.',\n",
       "  'superclasses': ['production_kpi'],\n",
       "  'subclasses': [],\n",
       "  'instances': ['cycles_sum',\n",
       "   'cycles_max',\n",
       "   'cycles_avg',\n",
       "   'average_cycle_time_avg',\n",
       "   'cycles_min'],\n",
       "  'entity_type': 'class'},\n",
       " 0.6)"
      ]
     },
     "execution_count": 12,
     "metadata": {},
     "output_type": "execute_result"
    }
   ],
   "source": [
    "kbi.get_closest_object_properties('cycles', method='levenshtein')"
   ]
  },
  {
   "cell_type": "code",
   "execution_count": 14,
   "metadata": {},
   "outputs": [
    {
     "data": {
      "text/plain": [
       "({'label': 'cycles_sum',\n",
       "  'description': 'This KPI measures the total count of completed operational cycles across relevant processes or machinery',\n",
       "  'unit_of_measure': '#',\n",
       "  'human_readable_formula': 'Pure KPI',\n",
       "  'depends_on': ['machine', 'operation'],\n",
       "  'database_id': 'cycles_sum',\n",
       "  'parsable_computation_formula': 'A°sum°mo[ A°sum°t[ D°cycles_sum°t°m°o° ]]',\n",
       "  'depends_on_other_kpi': [],\n",
       "  'superclasses': ['cycles_kpi'],\n",
       "  'entity_type': 'instance'},\n",
       " 0.8500000015)"
      ]
     },
     "execution_count": 14,
     "metadata": {},
     "output_type": "execute_result"
    }
   ],
   "source": [
    "kbi.get_closest_object_properties('cycles')"
   ]
  },
  {
   "cell_type": "code",
   "execution_count": 15,
   "metadata": {},
   "outputs": [
    {
     "data": {
      "text/plain": [
       "({'label': 'complex_industrial_part_production',\n",
       "  'description': 'Manufacturing process for a complex industrial part, involving cutting, welding, riveting, assembly, and testing.',\n",
       "  'process_step': ['complex_industrial_part_production_1_medium_capacity_cutting_machine_1_material_cutting',\n",
       "   'complex_industrial_part_production_2_large_capacity_cutting_machine_1_rough_cutting',\n",
       "   'complex_industrial_part_production_3_laser_cutter_precision_cutting',\n",
       "   'complex_industrial_part_production_4_laser_welding_machine_2_welding_parts',\n",
       "   'complex_industrial_part_production_5_laser_welding_machine_1_final_welding',\n",
       "   'complex_industrial_part_production_6_riveting_machine_1_riveting_assembly',\n",
       "   'complex_industrial_part_production_7_assembly_machine_2_pre_assembly',\n",
       "   'complex_industrial_part_production_8_assembly_machine_3_final_assembly',\n",
       "   'complex_industrial_part_production_9_testing_machine_1_visual_inspection',\n",
       "   'complex_industrial_part_production_10_testing_machine_2_functional_testing',\n",
       "   'complex_industrial_part_production_11_testing_machine_3_stress_testing'],\n",
       "  'superclasses': ['process'],\n",
       "  'entity_type': 'instance'},\n",
       " 0.7806451612903226)"
      ]
     },
     "execution_count": 15,
     "metadata": {},
     "output_type": "execute_result"
    }
   ],
   "source": [
    "kbi.get_closest_object_properties('complex_indurial_part_prod')"
   ]
  },
  {
   "cell_type": "code",
   "execution_count": 16,
   "metadata": {},
   "outputs": [
    {
     "data": {
      "text/plain": [
       "[(1, 'medium_capacity_cutting_machine_1', 'material_cutting'),\n",
       " (2, 'large_capacity_cutting_machine_1', 'rough_cutting'),\n",
       " (3, 'laser_cutter', 'precision_cutting'),\n",
       " (4, 'laser_welding_machine_2', 'welding_parts'),\n",
       " (5, 'laser_welding_machine_1', 'final_welding'),\n",
       " (6, 'riveting_machine_1', 'riveting_assembly'),\n",
       " (7, 'assembly_machine_2', 'pre_assembly'),\n",
       " (8, 'assembly_machine_3', 'final_assembly'),\n",
       " (9, 'testing_machine_1', 'visual_inspection'),\n",
       " (10, 'testing_machine_2', 'functional_testing'),\n",
       " (11, 'testing_machine_3', 'stress_testing')]"
      ]
     },
     "execution_count": 16,
     "metadata": {},
     "output_type": "execute_result"
    }
   ],
   "source": [
    "kbi.get_steps('complex_industrial_part_production')"
   ]
  },
  {
   "cell_type": "code",
   "execution_count": 17,
   "metadata": {},
   "outputs": [
    {
     "data": {
      "text/plain": [
       "[(1, 'medium_capacity_cutting_machine_1', 'material_cutting'),\n",
       " (2, 'large_capacity_cutting_machine_1', 'rough_cutting'),\n",
       " (3, 'laser_cutter', 'precision_cutting'),\n",
       " (4, 'laser_welding_machine_2', 'welding_parts'),\n",
       " (5, 'laser_welding_machine_1', 'final_welding'),\n",
       " (6, 'riveting_machine_1', 'riveting_assembly'),\n",
       " (7, 'assembly_machine_2', 'pre_assembly'),\n",
       " (8, 'assembly_machine_3', 'final_assembly'),\n",
       " (9, 'testing_machine_1', 'visual_inspection'),\n",
       " (10, 'testing_machine_2', 'functional_testing'),\n",
       " (11, 'testing_machine_3', 'stress_testing')]"
      ]
     },
     "execution_count": 17,
     "metadata": {},
     "output_type": "execute_result"
    }
   ],
   "source": [
    "kbi.get_closest_process_steps('complex_indurial_part_prod')"
   ]
  }
 ],
 "metadata": {
  "kernelspec": {
   "display_name": ".venv",
   "language": "python",
   "name": "python3"
  },
  "language_info": {
   "codemirror_mode": {
    "name": "ipython",
    "version": 3
   },
   "file_extension": ".py",
   "mimetype": "text/x-python",
   "name": "python",
   "nbconvert_exporter": "python",
   "pygments_lexer": "ipython3",
   "version": "3.12.2"
  }
 },
 "nbformat": 4,
 "nbformat_minor": 2
}
