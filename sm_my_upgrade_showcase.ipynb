{
 "cells": [
  {
   "cell_type": "code",
   "execution_count": 1,
   "metadata": {},
   "outputs": [
    {
     "name": "stderr",
     "output_type": "stream",
     "text": [
      "/home/arakiwi/KB/.venv/lib/python3.12/site-packages/tqdm/auto.py:21: TqdmWarning: IProgress not found. Please update jupyter and ipywidgets. See https://ipywidgets.readthedocs.io/en/stable/user_install.html\n",
      "  from .autonotebook import tqdm as notebook_tqdm\n"
     ]
    }
   ],
   "source": [
    "import kb_interface as kbi"
   ]
  },
  {
   "cell_type": "code",
   "execution_count": 2,
   "metadata": {},
   "outputs": [
    {
     "name": "stdout",
     "output_type": "stream",
     "text": [
      "Ontology successfully initialized!\n"
     ]
    }
   ],
   "source": [
    "kbi.start()"
   ]
  },
  {
   "cell_type": "code",
   "execution_count": 4,
   "metadata": {},
   "outputs": [],
   "source": [
    "def print_results(class_ranking): \n",
    "    print(f\"{'CLASS':<30} {'SCORE':<10}\") \n",
    "    print(\"=\"*40) \n",
    "    for _class in class_ranking: \n",
    "        print(f\"{_class[0].label.en.first():<30} {_class[1]:<10}\") \n",
    "        \n",
    "    print(\"\\n\\npredicted class: \", class_ranking[0][0].label.en.first())"
   ]
  },
  {
   "cell_type": "code",
   "execution_count": 5,
   "metadata": {},
   "outputs": [],
   "source": [
    "w = {\n",
    "    'label_w' : 3,\n",
    "    'description_w': 3,\n",
    "    'unit_of_measure_w': 1,\n",
    "    'both_none_w': 0.1,\n",
    "    'other_kpi_dependencies_w': 1,\n",
    "    'machine_dependency_w': 0.1,\n",
    "    'operation_dependency_w': 0.1\n",
    "    }"
   ]
  },
  {
   "cell_type": "markdown",
   "metadata": {},
   "source": [
    "## Transformer Importance in the Classification"
   ]
  },
  {
   "cell_type": "code",
   "execution_count": 5,
   "metadata": {},
   "outputs": [
    {
     "name": "stdout",
     "output_type": "stream",
     "text": [
      "FAST RANKING - KPI with just textual informations\n",
      "\n",
      "CLASS                          SCORE     \n",
      "========================================\n",
      "utilization_kpi                1.4835338781550782\n",
      "downtime_kpi                   1.415816075346654\n",
      "cycles_kpi                     0.6482626386771051\n",
      "production_efficiency_kpi      0.39905246299377595\n",
      "sustainability_kpi             0.35513781154180285\n",
      "consumption_kpi                0.35463265326834587\n",
      "cost_kpi                       0.2462288826689833\n",
      "energy_efficiency_kpi          0         \n",
      "revenue_kpi                    0         \n",
      "profitability_kpi              0         \n",
      "\n",
      "\n",
      "predicted class:  utilization_kpi\n"
     ]
    }
   ],
   "source": [
    "class_ranking_1 = kbi.infer_class_for_instance( 'electricity_kpi', \n",
    "                                                'This KPI measures something about electricity in the facility.', \n",
    "                                                's', \n",
    "                                                'A°min°mo[S°/[ R°not_something_informative_1°T°m°o° ; R°not_something_informative_2°T°m°o° ]]',\n",
    "                                                'min_M_O(R°not_something_informative_1°T°m°o°(T,m,o)/R°not_something_informative_2°T°m°o°(T,m,o))',\n",
    "                                                True,\n",
    "                                                True,\n",
    "                                                weights=w,\n",
    "                                                fast_prediction=True)\n",
    "\n",
    "print(\"FAST RANKING - KPI with just textual informations\\n\")\n",
    "print_results(class_ranking_1)"
   ]
  },
  {
   "cell_type": "markdown",
   "metadata": {},
   "source": [
    "In the example, the algorithm is asked to classify a KPI with incorrect or irrelevant information (such as that which a technically inexperienced user might enter) but with more accurate textual information (description and name of the KPI). It can be seen that the ‘Fast Mode’ fails to classify the KPI accurately by lacking the ability to make intelligent use of textual information.\n",
    "\n",
    "The text in the example is also a text with little depth, with only general information, but which aims to emphasise aspects related to energy and electricity. The user's intention is logically to classify the KPI as ‘Consumption KPI’."
   ]
  },
  {
   "cell_type": "code",
   "execution_count": 6,
   "metadata": {},
   "outputs": [
    {
     "name": "stdout",
     "output_type": "stream",
     "text": [
      "SLOW RANKING - KPI with just textual informations\n",
      "\n",
      "CLASS                          SCORE     \n",
      "========================================\n",
      "consumption_kpi                6.322887745184864\n",
      "utilization_kpi                5.055898691182277\n",
      "production_efficiency_kpi      4.592328465906018\n",
      "cycles_kpi                     4.312870472783297\n",
      "sustainability_kpi             3.320161843091216\n",
      "downtime_kpi                   2.9882809211450865\n",
      "cost_kpi                       2.923699601978321\n",
      "energy_efficiency_kpi          0         \n",
      "revenue_kpi                    0         \n",
      "profitability_kpi              0         \n",
      "\n",
      "\n",
      "predicted class:  consumption_kpi\n"
     ]
    }
   ],
   "source": [
    "class_ranking_1 = kbi.infer_class_for_instance( 'electricity_kpi', \n",
    "                                                'This KPI measures something about electricity in the facility.', \n",
    "                                                's', \n",
    "                                                'A°min°mo[S°/[ R°not_something_informative_1°T°m°o° ; R°not_something_informative_2°T°m°o° ]]',\n",
    "                                                'min_M_O(R°not_something_informative_1°T°m°o°(T,m,o)/R°not_something_informative_2°T°m°o°(T,m,o))',\n",
    "                                                True,\n",
    "                                                True,\n",
    "                                                weights=w,\n",
    "                                                fast_prediction=False)\n",
    "\n",
    "print(\"SLOW RANKING - KPI with just textual informations\\n\")\n",
    "print_results(class_ranking_1)"
   ]
  },
  {
   "cell_type": "markdown",
   "metadata": {},
   "source": [
    "It can be seen how the ‘Slow Mode’ with the weights configured to maximise the relevance of the predictions on the textual attributes and thus on the transformer in the computation succeeds in ranking the KPI with significantly higher performance."
   ]
  },
  {
   "cell_type": "markdown",
   "metadata": {},
   "source": [
    "## More Standard Examples"
   ]
  },
  {
   "cell_type": "markdown",
   "metadata": {},
   "source": [
    "### Fast Mode e Pesi"
   ]
  },
  {
   "cell_type": "code",
   "execution_count": 7,
   "metadata": {},
   "outputs": [
    {
     "name": "stdout",
     "output_type": "stream",
     "text": [
      "FAST RANKING\n",
      "\n",
      "CLASS                          SCORE     \n",
      "========================================\n",
      "downtime_kpi                   2.3391743853553413\n",
      "utilization_kpi                1.7688288547233624\n",
      "cycles_kpi                     0.6482626386771051\n",
      "production_efficiency_kpi      0.598578694490664\n",
      "consumption_kpi                0.44795703570738427\n",
      "sustainability_kpi             0.35513781154180285\n",
      "cost_kpi                       0.2462288826689833\n",
      "energy_efficiency_kpi          0         \n",
      "revenue_kpi                    0         \n",
      "profitability_kpi              0         \n",
      "\n",
      "\n",
      "predicted class:  downtime_kpi\n"
     ]
    }
   ],
   "source": [
    "class_ranking_1 = kbi.infer_class_for_instance( 'min_time_between_failures', \n",
    "                                                'Minimum time between failures cumulative over machines and operations', \n",
    "                                                's', \n",
    "                                                'A°min°mo[S°/[ R°bad_cycles_sum°T°m°o° ; R°time_sum°T°m°o° ]]',\n",
    "                                                'min_M_O(bad_cycles_sum(T,m,o)/time_sum(T,m,o))',\n",
    "                                                True,\n",
    "                                                True,\n",
    "                                                weights=w,\n",
    "                                                fast_prediction=True)\n",
    "\n",
    "print(\"FAST RANKING\\n\")\n",
    "print_results(class_ranking_1)"
   ]
  },
  {
   "cell_type": "markdown",
   "metadata": {},
   "source": [
    "'Fast Mode' achieves satisfactory performance when attributes such as the unit of measurement and the KPI computation formula are set correctly"
   ]
  },
  {
   "cell_type": "code",
   "execution_count": 8,
   "metadata": {},
   "outputs": [
    {
     "name": "stdout",
     "output_type": "stream",
     "text": [
      "SLOW RANKING\n",
      "\n",
      "CLASS                          SCORE     \n",
      "========================================\n",
      "downtime_kpi                   6.504241001887322\n",
      "utilization_kpi                5.721597073589764\n",
      "production_efficiency_kpi      4.120831052026899\n",
      "consumption_kpi                3.173044791855588\n",
      "cycles_kpi                     3.0542099722789193\n",
      "cost_kpi                       1.7379237841729587\n",
      "sustainability_kpi             1.0804216035618228\n",
      "energy_efficiency_kpi          0         \n",
      "revenue_kpi                    0         \n",
      "profitability_kpi              0         \n",
      "\n",
      "\n",
      "predicted class:  downtime_kpi\n"
     ]
    }
   ],
   "source": [
    "class_ranking_1 = kbi.infer_class_for_instance( 'min_time_between_failures', \n",
    "                                                'Minimum time between failures cumulative over machines and operations', \n",
    "                                                's', \n",
    "                                                'A°min°mo[S°/[ R°bad_cycles_sum°T°m°o° ; R°time_sum°T°m°o° ]]',\n",
    "                                                'min_M_O(bad_cycles_sum(T,m,o)/time_sum(T,m,o))',\n",
    "                                                True,\n",
    "                                                True,\n",
    "                                                weights=w,\n",
    "                                                fast_prediction=False)\n",
    "\n",
    "print(\"SLOW RANKING\\n\")\n",
    "print_results(class_ranking_1)"
   ]
  },
  {
   "cell_type": "markdown",
   "metadata": {},
   "source": [
    "The standard weight configuration (used in all the examples in this notebook) tends to give a lot of advantage to the transformer's predictions in ‘Slow Mode’. However, this balancing allows the other attributes to still have a significant effect.\n"
   ]
  },
  {
   "cell_type": "markdown",
   "metadata": {},
   "source": [
    "### Differences Between Fast and Slow modes in standard cases"
   ]
  },
  {
   "cell_type": "code",
   "execution_count": 9,
   "metadata": {},
   "outputs": [
    {
     "name": "stdout",
     "output_type": "stream",
     "text": [
      "FAST RANKING\n",
      "\n",
      "CLASS                          SCORE     \n",
      "========================================\n",
      "consumption_kpi                2.0422485690409564\n",
      "production_efficiency_kpi      0.39905246299377595\n",
      "utilization_kpi                0.34235397188194105\n",
      "cycles_kpi                     0.32413131933855255\n",
      "sustainability_kpi             0.2462288826689833\n",
      "cost_kpi                       0.2462288826689833\n",
      "downtime_kpi                   0.18467166200173749\n",
      "energy_efficiency_kpi          0         \n",
      "revenue_kpi                    0         \n",
      "profitability_kpi              0         \n",
      "\n",
      "\n",
      "predicted class:  consumption_kpi\n"
     ]
    }
   ],
   "source": [
    "class_ranking_2 = kbi.infer_class_for_instance( 'building_energy_consumpion_sum', \n",
    "                                                'This KPI measures the cumulative energy consumed by the electrical systems of company-owned buildings and plants. Costs related to energy consumed by production machinery are not part of this measure.', \n",
    "                                                'kWh', \n",
    "                                                'A°sum°mo[ A°sum°t[ D°building_energy_consumpion_sum°t°m°o° ] ]',\n",
    "                                                'Pure KPI',\n",
    "                                                True,\n",
    "                                                True,\n",
    "                                                weights=w,\n",
    "                                                fast_prediction=True)\n",
    "\n",
    "print(\"FAST RANKING\\n\")\n",
    "print_results(class_ranking_2)"
   ]
  },
  {
   "cell_type": "markdown",
   "metadata": {},
   "source": [
    "We can see how ‘Fast Mode’ achieves clarity in the classification of the main class, but lacks the depth to distribute the scores of the other classes in a more refined manner."
   ]
  },
  {
   "cell_type": "code",
   "execution_count": 10,
   "metadata": {},
   "outputs": [
    {
     "name": "stdout",
     "output_type": "stream",
     "text": [
      "SLOW RANKING\n",
      "\n",
      "CLASS                          SCORE     \n",
      "========================================\n",
      "consumption_kpi                8.925779733077183\n",
      "cycles_kpi                     5.105984633797798\n",
      "production_efficiency_kpi      5.001318590123597\n",
      "cost_kpi                       4.787270582627224\n",
      "utilization_kpi                4.436948198075211\n",
      "sustainability_kpi             3.9857880564046315\n",
      "downtime_kpi                   2.003143867864503\n",
      "energy_efficiency_kpi          0         \n",
      "revenue_kpi                    0         \n",
      "profitability_kpi              0         \n",
      "\n",
      "\n",
      "predicted class:  consumption_kpi\n"
     ]
    }
   ],
   "source": [
    "class_ranking_2 = kbi.infer_class_for_instance( 'building_energy_consumpion_sum', \n",
    "                                                'This KPI measures the cumulative energy consumed by the electrical systems of company-owned buildings and plants. Costs related to energy consumed by production machinery are not part of this measure.', \n",
    "                                                'kWh', \n",
    "                                                'A°sum°mo[ A°sum°t[ D°building_energy_consumpion_sum°t°m°o° ] ]',\n",
    "                                                'Pure KPI',\n",
    "                                                True,\n",
    "                                                True,\n",
    "                                                weights=w,\n",
    "                                                fast_prediction=False)\n",
    "\n",
    "print(\"SLOW RANKING\\n\")\n",
    "print_results(class_ranking_2)"
   ]
  },
  {
   "cell_type": "markdown",
   "metadata": {},
   "source": [
    "In contrast, ‘Slow Mode’ preserves the relevance of the main class, but tends to better distinguish the classification of more distant classes, allowing a possible pool of user-recommendable classes to be more clearly defined."
   ]
  },
  {
   "cell_type": "code",
   "execution_count": 11,
   "metadata": {},
   "outputs": [
    {
     "name": "stdout",
     "output_type": "stream",
     "text": [
      "FAST RANKING\n",
      "\n",
      "CLASS                          SCORE     \n",
      "========================================\n",
      "cost_kpi                       1.354258854679408\n",
      "production_efficiency_kpi      0.19952623149688797\n",
      "utilization_kpi                0.17117698594097053\n",
      "cycles_kpi                     0.16206565966927627\n",
      "consumption_kpi                0.14931901190246138\n",
      "sustainability_kpi             0.12311444133449165\n",
      "downtime_kpi                   0.061557220667245824\n",
      "energy_efficiency_kpi          0         \n",
      "revenue_kpi                    0         \n",
      "profitability_kpi              0         \n",
      "\n",
      "\n",
      "predicted class:  cost_kpi\n"
     ]
    }
   ],
   "source": [
    "class_ranking_3 = kbi.infer_class_for_instance( 'maintenance_cost_sum', \n",
    "                                                'This kpi measures the total cost of machine and system maintenance in euros. The KPI makes it possible to distinguish the company\\'s expenses for activities not directly related to production.', \n",
    "                                                '€', \n",
    "                                                'A°sum°mo[ A°sum°t[ D°maintenance_cost_sum°t°m°o° ] ]',\n",
    "                                                'Pure KPI',\n",
    "                                                True,\n",
    "                                                False,\n",
    "                                                weights=w,\n",
    "                                                fast_prediction=True)\n",
    "\n",
    "print(\"FAST RANKING\\n\")\n",
    "print_results(class_ranking_3)"
   ]
  },
  {
   "cell_type": "code",
   "execution_count": 12,
   "metadata": {},
   "outputs": [
    {
     "name": "stdout",
     "output_type": "stream",
     "text": [
      "SLOW RANKING\n",
      "\n",
      "CLASS                          SCORE     \n",
      "========================================\n",
      "cost_kpi                       6.425758093357034\n",
      "consumption_kpi                5.77674864103437\n",
      "production_efficiency_kpi      5.544902363521432\n",
      "utilization_kpi                4.68103661700836\n",
      "cycles_kpi                     4.666883926123654\n",
      "sustainability_kpi             3.7412043304599356\n",
      "downtime_kpi                   2.3252077062239667\n",
      "energy_efficiency_kpi          0         \n",
      "revenue_kpi                    0         \n",
      "profitability_kpi              0         \n",
      "\n",
      "\n",
      "predicted class:  cost_kpi\n"
     ]
    }
   ],
   "source": [
    "class_ranking_3 = kbi.infer_class_for_instance( 'maintenance_cost_sum', \n",
    "                                                'This kpi measures the total cost of machine and system maintenance in euros. The KPI makes it possible to distinguish the company\\'s expenses for activities not directly related to production.', \n",
    "                                                '€', \n",
    "                                                'A°sum°mo[ A°sum°t[ D°maintenance_cost_sum°t°m°o° ] ]',\n",
    "                                                'Pure KPI',\n",
    "                                                True,\n",
    "                                                False,\n",
    "                                                weights=w,\n",
    "                                                fast_prediction=False)\n",
    "\n",
    "print(\"SLOW RANKING\\n\")\n",
    "print_results(class_ranking_3)"
   ]
  },
  {
   "cell_type": "markdown",
   "metadata": {},
   "source": [
    "## KPI Insertion with Predicted Class"
   ]
  },
  {
   "cell_type": "code",
   "execution_count": 3,
   "metadata": {},
   "outputs": [
    {
     "data": {
      "text/plain": [
       "['cost_per_cycle', 'cost_sum']"
      ]
     },
     "execution_count": 3,
     "metadata": {},
     "output_type": "execute_result"
    }
   ],
   "source": [
    "kbi.get_instances(\"cost_kpi\")"
   ]
  },
  {
   "cell_type": "code",
   "execution_count": 6,
   "metadata": {},
   "outputs": [
    {
     "name": "stdout",
     "output_type": "stream",
     "text": [
      "class predicted for the KPI:  cost_kpi\n",
      "KPI maintenance_cost_sum successfully added to the ontology!\n"
     ]
    }
   ],
   "source": [
    "kbi.add_kpi_autoclass(  None,\n",
    "                        'maintenance_cost_sum', \n",
    "                        'This kpi measures the total cost of machine and system maintenance in euros. The KPI makes it possible to distinguish the company\\'s expenses for activities not directly related to production.', \n",
    "                        '€', \n",
    "                        'A°sum°mo[ A°sum°t[ D°maintenance_cost_sum°t°m°o° ] ]',\n",
    "                        'Pure KPI',\n",
    "                        True,\n",
    "                        False,\n",
    "                        weights=w,\n",
    "                        fast_prediction=True)"
   ]
  },
  {
   "cell_type": "code",
   "execution_count": 7,
   "metadata": {},
   "outputs": [
    {
     "data": {
      "text/plain": [
       "['cost_per_cycle', 'cost_sum', 'maintenance_cost_sum']"
      ]
     },
     "execution_count": 7,
     "metadata": {},
     "output_type": "execute_result"
    }
   ],
   "source": [
    "kbi.get_instances(\"cost_kpi\")"
   ]
  }
 ],
 "metadata": {
  "kernelspec": {
   "display_name": ".venv",
   "language": "python",
   "name": "python3"
  },
  "language_info": {
   "codemirror_mode": {
    "name": "ipython",
    "version": 3
   },
   "file_extension": ".py",
   "mimetype": "text/x-python",
   "name": "python",
   "nbconvert_exporter": "python",
   "pygments_lexer": "ipython3",
   "version": "3.12.8"
  }
 },
 "nbformat": 4,
 "nbformat_minor": 2
}
