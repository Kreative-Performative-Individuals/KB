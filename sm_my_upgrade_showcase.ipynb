{
 "cells": [
  {
   "cell_type": "code",
   "execution_count": 1,
   "metadata": {},
   "outputs": [
    {
     "name": "stderr",
     "output_type": "stream",
     "text": [
      "/home/arakiwi/KB/.venv/lib/python3.12/site-packages/tqdm/auto.py:21: TqdmWarning: IProgress not found. Please update jupyter and ipywidgets. See https://ipywidgets.readthedocs.io/en/stable/user_install.html\n",
      "  from .autonotebook import tqdm as notebook_tqdm\n"
     ]
    }
   ],
   "source": [
    "import kb_interface as kbi"
   ]
  },
  {
   "cell_type": "code",
   "execution_count": 2,
   "metadata": {},
   "outputs": [
    {
     "name": "stdout",
     "output_type": "stream",
     "text": [
      "Ontology successfully initialized!\n"
     ]
    }
   ],
   "source": [
    "kbi.start()"
   ]
  },
  {
   "cell_type": "code",
   "execution_count": 3,
   "metadata": {},
   "outputs": [
    {
     "name": "stdout",
     "output_type": "stream",
     "text": [
      "downtime_kpi   -   3.7275299241993354\n",
      "utilization_kpi   -   3.0864182610121627\n",
      "production_efficiency_kpi   -   1.7726628136694094\n",
      "cycles_kpi   -   1.4502450832110432\n",
      "consumption_kpi   -   1.3563196210901192\n",
      "cost_kpi   -   0.7434605165036416\n",
      "sustainability_kpi   -   0.5968990755484762\n",
      "energy_efficiency_kpi   -   0\n",
      "revenue_kpi   -   0\n",
      "profitability_kpi   -   0\n",
      "prediciton:  downtime_kpi\n"
     ]
    }
   ],
   "source": [
    "kbi.add_kpi_upgrade(None, \n",
    "            'min_time_between_failures', \n",
    "            'Minimum time between failures cumulative over machines and operations', \n",
    "            's', \n",
    "            'A°min°mo[S°/[ R°bad_cycles_sum°T°m°o° ; R°time_sum°T°m°o° ]]',\n",
    "            'min_M_O(bad_cycles_sum(T,m,o)/time_sum(T,m,o))',\n",
    "            True,\n",
    "            True)"
   ]
  },
  {
   "cell_type": "code",
   "execution_count": 4,
   "metadata": {},
   "outputs": [
    {
     "name": "stdout",
     "output_type": "stream",
     "text": [
      "consumption_kpi   -   4.336758957053032\n",
      "production_efficiency_kpi   -   1.93314117203705\n",
      "cycles_kpi   -   1.918082424158301\n",
      "cost_kpi   -   1.7599094493217307\n",
      "utilization_kpi   -   1.7072187139463644\n",
      "sustainability_kpi   -   1.4927486072475329\n",
      "downtime_kpi   -   0.7908290639559925\n",
      "energy_efficiency_kpi   -   0\n",
      "revenue_kpi   -   0\n",
      "profitability_kpi   -   0\n",
      "prediciton:  consumption_kpi\n"
     ]
    }
   ],
   "source": [
    "kbi.add_kpi_upgrade(None, \n",
    "            'building_energy_consumpion_sum', \n",
    "            'This KPI measures the cumulative energy consumed by the electrical systems of company-owned buildings and plants. Costs related to energy consumed by production machinery are not part of this measure.', \n",
    "            'kWh', \n",
    "            'A°sum°mo[ A°sum°t[ D°building_energy_consumpion_sum°t°m°o° ] ]',\n",
    "            'Pure KPI',\n",
    "            True,\n",
    "            True)"
   ]
  },
  {
   "cell_type": "code",
   "execution_count": 5,
   "metadata": {},
   "outputs": [
    {
     "name": "stdout",
     "output_type": "stream",
     "text": [
      "cost_kpi   -   3.018905965123373\n",
      "consumption_kpi   -   2.1568508673919102\n",
      "production_efficiency_kpi   -   2.0350688941590476\n",
      "utilization_kpi   -   1.787841366430902\n",
      "cycles_kpi   -   1.7261663100180125\n",
      "sustainability_kpi   -   1.339525561911315\n",
      "downtime_kpi   -   0.9249591862446253\n",
      "energy_efficiency_kpi   -   0\n",
      "revenue_kpi   -   0\n",
      "profitability_kpi   -   0\n",
      "prediciton:  cost_kpi\n"
     ]
    }
   ],
   "source": [
    "kbi.add_kpi_upgrade(None, \n",
    "            'maintenance_cost_sum', \n",
    "            'This kpi measures the total cost of machine and system maintenance', \n",
    "            '€', \n",
    "            'A°sum°mo[ A°sum°t[ D°maintenance_cost_sum°t°m°o° ] ]',\n",
    "            'Pure KPI',\n",
    "            True,\n",
    "            False)"
   ]
  }
 ],
 "metadata": {
  "kernelspec": {
   "display_name": ".venv",
   "language": "python",
   "name": "python3"
  },
  "language_info": {
   "codemirror_mode": {
    "name": "ipython",
    "version": 3
   },
   "file_extension": ".py",
   "mimetype": "text/x-python",
   "name": "python",
   "nbconvert_exporter": "python",
   "pygments_lexer": "ipython3",
   "version": "3.12.8"
  }
 },
 "nbformat": 4,
 "nbformat_minor": 2
}
